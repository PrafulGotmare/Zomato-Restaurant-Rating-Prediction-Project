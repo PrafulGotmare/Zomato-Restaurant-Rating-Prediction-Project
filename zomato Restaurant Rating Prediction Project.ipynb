{
 "cells": [
  {
   "cell_type": "markdown",
   "id": "8c7f6648",
   "metadata": {},
   "source": [
    "## -----------------------------------------Zomato Restaurant Ratings-------------------------------------------"
   ]
  },
  {
   "cell_type": "markdown",
   "id": "74e52648",
   "metadata": {},
   "source": [
    "##### >>Abstract of Project"
   ]
  },
  {
   "cell_type": "markdown",
   "id": "0232fef1",
   "metadata": {},
   "source": [
    "Zomato is one of the best online food delivery apps which gives the users the ratings and the reviews on restaurants all over india.These ratings and the Reviews are considered as one of the most important deciding factors which determine how good a restaurant is.\n",
    "\n",
    "Content The basic idea of analyzing the Zomato dataset is to get a fair idea about the factors affecting the establishment of different types of restaurant at different places in Bengaluru, aggregate rating of each restaurant, Bengaluru being one such city has more than 12,000 restaurants with restaurants serving dishes from all over the world.\n",
    "\n",
    "With each day new restaurants opening the industry has’nt been saturated yet and the demand is increasing day by day. Inspite of increasing demand it however has become difficult for new restaurants to compete with established restaurants. Most of them serving the same food. Bengaluru being an IT capital of India. Most of the people here are dependent mainly on the restaurant food as they don’t have time to cook for themselves."
   ]
  },
  {
   "cell_type": "markdown",
   "id": "de3ee409",
   "metadata": {},
   "source": [
    "##### >>Source of dataset "
   ]
  },
  {
   "cell_type": "markdown",
   "id": "ec17961c",
   "metadata": {},
   "source": [
    "Source: Kaggle , Github"
   ]
  },
  {
   "cell_type": "markdown",
   "id": "d4259328",
   "metadata": {},
   "source": [
    "Tools used :\n",
    "\n",
    "1.python 3.6\n",
    "\n",
    "2.Numpy\n",
    "\n",
    "3.Pandas\n",
    "\n",
    "4.Matplotlib\n",
    "\n",
    "5.Seaborn\n",
    "\n",
    "6.Sklearn\n",
    "\n",
    "7.Machine learning"
   ]
  },
  {
   "cell_type": "markdown",
   "id": "c94021c9",
   "metadata": {},
   "source": [
    "##### >>Objective of Project is ::"
   ]
  },
  {
   "cell_type": "markdown",
   "id": "ced40229",
   "metadata": {},
   "source": [
    "1. Perform an extensive Exploratory Data Analysis(EDA) on the Zomato Dataset.\n",
    "\n",
    "2. Build an appropriate Machine Learning Model that will help various Zomato Restaurants to predict their respective Ratings based on certain features.\n",
    "\n",
    "3. DEPLOY the Machine learning model via Flask that can be used to make live predictions of restaurants ratings."
   ]
  },
  {
   "cell_type": "markdown",
   "id": "521433e1",
   "metadata": {},
   "source": [
    "##### >>The flow of the case study is as below:"
   ]
  },
  {
   "cell_type": "raw",
   "id": "d531e9e4",
   "metadata": {},
   "source": [
    "1.Reading the data in python\n",
    "2.Defining the problem statement\n",
    "3.Identifying the Target variable\n",
    "4.Looking at the distribution of Target variable\n",
    "5.Basic Data exploration\n",
    "6.Feature Engineering\n",
    "7.Rejecting useless columns\n",
    "8.Visual Exploratory Data Analysis for data distribution (Histogram and BarPlots)\n",
    "9.Feature Selection based on data distribution\n",
    "10.Outlier treatment\n",
    "11.Missing Values treatment\n",
    "12.Visual correlation analysis\n",
    "13.Statistical correlation analysis (Feature Selection)\n",
    "14.Converting data to numeric for ML\n",
    "15.Sampling and K-fold cross validation\n",
    "16.Trying multiple Regression algorithms\n",
    "17.Selecting the best Model\n",
    "18.Deploying the best model in production in Flask"
   ]
  },
  {
   "cell_type": "markdown",
   "id": "f7c40fdb",
   "metadata": {},
   "source": [
    "###### Defining the problem statement:"
   ]
  },
  {
   "cell_type": "markdown",
   "id": "3a907e91",
   "metadata": {},
   "source": [
    "Target column in dataset is ::  **rate**"
   ]
  },
  {
   "cell_type": "markdown",
   "id": "0c1e8839",
   "metadata": {},
   "source": [
    "##### >>Features/Columns description :"
   ]
  },
  {
   "cell_type": "markdown",
   "id": "99b3a52e",
   "metadata": {},
   "source": [
    "1.**URL** : particular shop/restaurant link\n",
    "\n",
    "2.**Address** : address of the restaurant\n",
    "\n",
    "3.**Name** : restaurant name \n",
    "\n",
    "4.**Online_order** : whether online ordering is available in the restaurant or not  (YES or NO)\n",
    "\n",
    "5.**Book_table** : table book option is available or not (YES or NO)\n",
    "\n",
    "6.**Rate** : overall rating out of 5\n",
    "\n",
    "7.**Votes** : The number of people who voted for the rating\n",
    "\n",
    "8.**Phone** : phone number of the restaurant\n",
    "\n",
    "9.**Location** : location of the restaurant\n",
    "\n",
    "10.**rest type** : Type of restaurant\n",
    "\n",
    "11.**dish liked** : dishes people liked in the restaurant\n",
    "\n",
    "12.**Cuisines** : Various type of food offered in restaurant\n",
    "\n",
    "13.**approx cost(for two people)** : approximate cost for meal for two people\n",
    "\n",
    "14.**reviews list** :  Rating and review is present in dataset\n",
    "\n",
    "15.**menu item** :  list of menu items served to people in the restaurant\n",
    "\n",
    "16.**listed in(type)** : type of meal\n",
    "\n",
    "17.**listed in(city)** : city where the restaurant is present"
   ]
  },
  {
   "cell_type": "markdown",
   "id": "61a5c897",
   "metadata": {},
   "source": [
    "---------------------------------------------------------------------------------------------------------------------------"
   ]
  },
  {
   "cell_type": "code",
   "execution_count": 1,
   "id": "28eafdbf",
   "metadata": {},
   "outputs": [],
   "source": [
    "# import python library\n",
    "\n",
    "import pandas as pd\n",
    "import numpy as np \n",
    "import matplotlib.pyplot as plt \n",
    "import seaborn as sns\n",
    "\n",
    "from sklearn.preprocessing import LabelEncoder\n",
    "le=LabelEncoder()\n",
    "from sklearn.compose import ColumnTransformer\n",
    "\n",
    "from sklearn.preprocessing import StandardScaler\n",
    "from sklearn.model_selection import train_test_split,GridSearchCV,RandomizedSearchCV\n",
    "\n",
    "from sklearn.neighbors import KNeighborsClassifier\n",
    "from sklearn.metrics import roc_curve\n",
    "from sklearn.ensemble import AdaBoostClassifier, GradientBoostingClassifier\n",
    "from sklearn.neural_network import MLPClassifier\n",
    "\n",
    "from sklearn.metrics import classification_report , confusion_matrix,mean_absolute_error,mean_squared_error,r2_score\n",
    "from sklearn.metrics import accuracy_score\n",
    "\n",
    "from sklearn.tree import DecisionTreeClassifier\n",
    "\n",
    "from sklearn.ensemble import RandomForestRegressor,AdaBoostClassifier\n",
    "from sklearn.ensemble import RandomForestRegressor\n",
    "from imblearn.over_sampling import SMOTE\n",
    "\n",
    "from sklearn.linear_model import LinearRegression\n",
    "\n",
    "\n",
    "import warnings\n",
    "warnings.filterwarnings('ignore')"
   ]
  },
  {
   "cell_type": "code",
   "execution_count": 2,
   "id": "63e5892b",
   "metadata": {},
   "outputs": [],
   "source": [
    "# import dataset"
   ]
  },
  {
   "cell_type": "code",
   "execution_count": 3,
   "id": "639cb39a",
   "metadata": {
    "scrolled": true
   },
   "outputs": [
    {
     "data": {
      "text/html": [
       "<div>\n",
       "<style scoped>\n",
       "    .dataframe tbody tr th:only-of-type {\n",
       "        vertical-align: middle;\n",
       "    }\n",
       "\n",
       "    .dataframe tbody tr th {\n",
       "        vertical-align: top;\n",
       "    }\n",
       "\n",
       "    .dataframe thead th {\n",
       "        text-align: right;\n",
       "    }\n",
       "</style>\n",
       "<table border=\"1\" class=\"dataframe\">\n",
       "  <thead>\n",
       "    <tr style=\"text-align: right;\">\n",
       "      <th></th>\n",
       "      <th>url</th>\n",
       "      <th>address</th>\n",
       "      <th>name</th>\n",
       "      <th>online_order</th>\n",
       "      <th>book_table</th>\n",
       "      <th>rate</th>\n",
       "      <th>votes</th>\n",
       "      <th>phone</th>\n",
       "      <th>location</th>\n",
       "      <th>rest_type</th>\n",
       "      <th>dish_liked</th>\n",
       "      <th>cuisines</th>\n",
       "      <th>approx_cost(for two people)</th>\n",
       "      <th>reviews_list</th>\n",
       "      <th>menu_item</th>\n",
       "      <th>listed_in(type)</th>\n",
       "      <th>listed_in(city)</th>\n",
       "    </tr>\n",
       "  </thead>\n",
       "  <tbody>\n",
       "    <tr>\n",
       "      <th>0</th>\n",
       "      <td>https://www.zomato.com/bangalore/jalsa-banasha...</td>\n",
       "      <td>942, 21st Main Road, 2nd Stage, Banashankari, ...</td>\n",
       "      <td>Jalsa</td>\n",
       "      <td>Yes</td>\n",
       "      <td>Yes</td>\n",
       "      <td>4.1/5</td>\n",
       "      <td>775</td>\n",
       "      <td>080 42297555\\r\\n+91 9743772233</td>\n",
       "      <td>Banashankari</td>\n",
       "      <td>Casual Dining</td>\n",
       "      <td>Pasta, Lunch Buffet, Masala Papad, Paneer Laja...</td>\n",
       "      <td>North Indian, Mughlai, Chinese</td>\n",
       "      <td>800</td>\n",
       "      <td>[('Rated 4.0', 'RATED\\n  A beautiful place to ...</td>\n",
       "      <td>[]</td>\n",
       "      <td>Buffet</td>\n",
       "      <td>Banashankari</td>\n",
       "    </tr>\n",
       "    <tr>\n",
       "      <th>1</th>\n",
       "      <td>https://www.zomato.com/bangalore/spice-elephan...</td>\n",
       "      <td>2nd Floor, 80 Feet Road, Near Big Bazaar, 6th ...</td>\n",
       "      <td>Spice Elephant</td>\n",
       "      <td>Yes</td>\n",
       "      <td>No</td>\n",
       "      <td>4.1/5</td>\n",
       "      <td>787</td>\n",
       "      <td>080 41714161</td>\n",
       "      <td>Banashankari</td>\n",
       "      <td>Casual Dining</td>\n",
       "      <td>Momos, Lunch Buffet, Chocolate Nirvana, Thai G...</td>\n",
       "      <td>Chinese, North Indian, Thai</td>\n",
       "      <td>800</td>\n",
       "      <td>[('Rated 4.0', 'RATED\\n  Had been here for din...</td>\n",
       "      <td>[]</td>\n",
       "      <td>Buffet</td>\n",
       "      <td>Banashankari</td>\n",
       "    </tr>\n",
       "  </tbody>\n",
       "</table>\n",
       "</div>"
      ],
      "text/plain": [
       "                                                 url  \\\n",
       "0  https://www.zomato.com/bangalore/jalsa-banasha...   \n",
       "1  https://www.zomato.com/bangalore/spice-elephan...   \n",
       "\n",
       "                                             address            name  \\\n",
       "0  942, 21st Main Road, 2nd Stage, Banashankari, ...           Jalsa   \n",
       "1  2nd Floor, 80 Feet Road, Near Big Bazaar, 6th ...  Spice Elephant   \n",
       "\n",
       "  online_order book_table   rate  votes                           phone  \\\n",
       "0          Yes        Yes  4.1/5    775  080 42297555\\r\\n+91 9743772233   \n",
       "1          Yes         No  4.1/5    787                    080 41714161   \n",
       "\n",
       "       location      rest_type  \\\n",
       "0  Banashankari  Casual Dining   \n",
       "1  Banashankari  Casual Dining   \n",
       "\n",
       "                                          dish_liked  \\\n",
       "0  Pasta, Lunch Buffet, Masala Papad, Paneer Laja...   \n",
       "1  Momos, Lunch Buffet, Chocolate Nirvana, Thai G...   \n",
       "\n",
       "                         cuisines approx_cost(for two people)  \\\n",
       "0  North Indian, Mughlai, Chinese                         800   \n",
       "1     Chinese, North Indian, Thai                         800   \n",
       "\n",
       "                                        reviews_list menu_item  \\\n",
       "0  [('Rated 4.0', 'RATED\\n  A beautiful place to ...        []   \n",
       "1  [('Rated 4.0', 'RATED\\n  Had been here for din...        []   \n",
       "\n",
       "  listed_in(type) listed_in(city)  \n",
       "0          Buffet    Banashankari  \n",
       "1          Buffet    Banashankari  "
      ]
     },
     "execution_count": 3,
     "metadata": {},
     "output_type": "execute_result"
    }
   ],
   "source": [
    "rest_data = pd.read_csv(\"zomato.csv\")\n",
    "rest_data.head(2)"
   ]
  },
  {
   "cell_type": "markdown",
   "id": "7fb78e73",
   "metadata": {},
   "source": [
    "## Data pre-processing"
   ]
  },
  {
   "cell_type": "code",
   "execution_count": 4,
   "id": "d6a098f0",
   "metadata": {},
   "outputs": [],
   "source": [
    "# dataset shape check"
   ]
  },
  {
   "cell_type": "code",
   "execution_count": 5,
   "id": "4b66622e",
   "metadata": {},
   "outputs": [
    {
     "data": {
      "text/plain": [
       "(51717, 17)"
      ]
     },
     "execution_count": 5,
     "metadata": {},
     "output_type": "execute_result"
    }
   ],
   "source": [
    "rest_data.shape"
   ]
  },
  {
   "cell_type": "code",
   "execution_count": 6,
   "id": "2cb4d2c2",
   "metadata": {},
   "outputs": [
    {
     "name": "stdout",
     "output_type": "stream",
     "text": [
      "Shape before deleting duplicate values: (51717, 17)\n"
     ]
    }
   ],
   "source": [
    "# Before delete duplicates in dataset \n",
    "\n",
    "print('Shape before deleting duplicate values:', rest_data.shape)"
   ]
  },
  {
   "cell_type": "code",
   "execution_count": 7,
   "id": "de73737f",
   "metadata": {},
   "outputs": [
    {
     "name": "stdout",
     "output_type": "stream",
     "text": [
      "Shape After deleting duplicate values: (51717, 17)\n"
     ]
    }
   ],
   "source": [
    "# Removing duplicate rows if any in dataset\n",
    "rest_data=rest_data.drop_duplicates()\n",
    "print('Shape After deleting duplicate values:', rest_data.shape)"
   ]
  },
  {
   "cell_type": "markdown",
   "id": "28424785",
   "metadata": {},
   "source": [
    "##### >>1.EDA (Exploratory Data Analysis)"
   ]
  },
  {
   "cell_type": "code",
   "execution_count": 8,
   "id": "264ab3cf",
   "metadata": {},
   "outputs": [
    {
     "data": {
      "text/plain": [
       "(51717, 17)"
      ]
     },
     "execution_count": 8,
     "metadata": {},
     "output_type": "execute_result"
    }
   ],
   "source": [
    "rest_data.shape"
   ]
  },
  {
   "cell_type": "code",
   "execution_count": 9,
   "id": "4df79ddd",
   "metadata": {},
   "outputs": [
    {
     "data": {
      "text/plain": [
       "Index(['url', 'address', 'name', 'online_order', 'book_table', 'rate', 'votes',\n",
       "       'phone', 'location', 'rest_type', 'dish_liked', 'cuisines',\n",
       "       'approx_cost(for two people)', 'reviews_list', 'menu_item',\n",
       "       'listed_in(type)', 'listed_in(city)'],\n",
       "      dtype='object')"
      ]
     },
     "execution_count": 9,
     "metadata": {},
     "output_type": "execute_result"
    }
   ],
   "source": [
    "rest_data.columns"
   ]
  },
  {
   "cell_type": "code",
   "execution_count": 10,
   "id": "b3ed9fe8",
   "metadata": {},
   "outputs": [
    {
     "name": "stdout",
     "output_type": "stream",
     "text": [
      "<class 'pandas.core.frame.DataFrame'>\n",
      "Int64Index: 51717 entries, 0 to 51716\n",
      "Data columns (total 17 columns):\n",
      " #   Column                       Non-Null Count  Dtype \n",
      "---  ------                       --------------  ----- \n",
      " 0   url                          51717 non-null  object\n",
      " 1   address                      51717 non-null  object\n",
      " 2   name                         51717 non-null  object\n",
      " 3   online_order                 51717 non-null  object\n",
      " 4   book_table                   51717 non-null  object\n",
      " 5   rate                         43942 non-null  object\n",
      " 6   votes                        51717 non-null  int64 \n",
      " 7   phone                        50509 non-null  object\n",
      " 8   location                     51696 non-null  object\n",
      " 9   rest_type                    51490 non-null  object\n",
      " 10  dish_liked                   23639 non-null  object\n",
      " 11  cuisines                     51672 non-null  object\n",
      " 12  approx_cost(for two people)  51371 non-null  object\n",
      " 13  reviews_list                 51717 non-null  object\n",
      " 14  menu_item                    51717 non-null  object\n",
      " 15  listed_in(type)              51717 non-null  object\n",
      " 16  listed_in(city)              51717 non-null  object\n",
      "dtypes: int64(1), object(16)\n",
      "memory usage: 7.1+ MB\n"
     ]
    }
   ],
   "source": [
    "rest_data.info()"
   ]
  },
  {
   "cell_type": "code",
   "execution_count": 11,
   "id": "66fcf2d2",
   "metadata": {},
   "outputs": [
    {
     "data": {
      "text/html": [
       "<div>\n",
       "<style scoped>\n",
       "    .dataframe tbody tr th:only-of-type {\n",
       "        vertical-align: middle;\n",
       "    }\n",
       "\n",
       "    .dataframe tbody tr th {\n",
       "        vertical-align: top;\n",
       "    }\n",
       "\n",
       "    .dataframe thead th {\n",
       "        text-align: right;\n",
       "    }\n",
       "</style>\n",
       "<table border=\"1\" class=\"dataframe\">\n",
       "  <thead>\n",
       "    <tr style=\"text-align: right;\">\n",
       "      <th></th>\n",
       "      <th>name</th>\n",
       "      <th>online_order</th>\n",
       "      <th>book_table</th>\n",
       "      <th>rate</th>\n",
       "      <th>votes</th>\n",
       "      <th>location</th>\n",
       "      <th>rest_type</th>\n",
       "      <th>cuisines</th>\n",
       "      <th>approx_cost(for two people)</th>\n",
       "      <th>listed_in(type)</th>\n",
       "      <th>listed_in(city)</th>\n",
       "    </tr>\n",
       "  </thead>\n",
       "  <tbody>\n",
       "    <tr>\n",
       "      <th>0</th>\n",
       "      <td>Jalsa</td>\n",
       "      <td>Yes</td>\n",
       "      <td>Yes</td>\n",
       "      <td>4.1/5</td>\n",
       "      <td>775</td>\n",
       "      <td>Banashankari</td>\n",
       "      <td>Casual Dining</td>\n",
       "      <td>North Indian, Mughlai, Chinese</td>\n",
       "      <td>800</td>\n",
       "      <td>Buffet</td>\n",
       "      <td>Banashankari</td>\n",
       "    </tr>\n",
       "    <tr>\n",
       "      <th>1</th>\n",
       "      <td>Spice Elephant</td>\n",
       "      <td>Yes</td>\n",
       "      <td>No</td>\n",
       "      <td>4.1/5</td>\n",
       "      <td>787</td>\n",
       "      <td>Banashankari</td>\n",
       "      <td>Casual Dining</td>\n",
       "      <td>Chinese, North Indian, Thai</td>\n",
       "      <td>800</td>\n",
       "      <td>Buffet</td>\n",
       "      <td>Banashankari</td>\n",
       "    </tr>\n",
       "    <tr>\n",
       "      <th>2</th>\n",
       "      <td>San Churro Cafe</td>\n",
       "      <td>Yes</td>\n",
       "      <td>No</td>\n",
       "      <td>3.8/5</td>\n",
       "      <td>918</td>\n",
       "      <td>Banashankari</td>\n",
       "      <td>Cafe, Casual Dining</td>\n",
       "      <td>Cafe, Mexican, Italian</td>\n",
       "      <td>800</td>\n",
       "      <td>Buffet</td>\n",
       "      <td>Banashankari</td>\n",
       "    </tr>\n",
       "  </tbody>\n",
       "</table>\n",
       "</div>"
      ],
      "text/plain": [
       "              name online_order book_table   rate  votes      location  \\\n",
       "0            Jalsa          Yes        Yes  4.1/5    775  Banashankari   \n",
       "1   Spice Elephant          Yes         No  4.1/5    787  Banashankari   \n",
       "2  San Churro Cafe          Yes         No  3.8/5    918  Banashankari   \n",
       "\n",
       "             rest_type                        cuisines  \\\n",
       "0        Casual Dining  North Indian, Mughlai, Chinese   \n",
       "1        Casual Dining     Chinese, North Indian, Thai   \n",
       "2  Cafe, Casual Dining          Cafe, Mexican, Italian   \n",
       "\n",
       "  approx_cost(for two people) listed_in(type) listed_in(city)  \n",
       "0                         800          Buffet    Banashankari  \n",
       "1                         800          Buffet    Banashankari  \n",
       "2                         800          Buffet    Banashankari  "
      ]
     },
     "execution_count": 11,
     "metadata": {},
     "output_type": "execute_result"
    }
   ],
   "source": [
    "rest_data = rest_data.drop([\"url\",\"address\",\"phone\",\"dish_liked\",\"reviews_list\",\"menu_item\"], axis= True)\n",
    "rest_data.head(3)"
   ]
  },
  {
   "cell_type": "markdown",
   "id": "812e7655",
   "metadata": {},
   "source": [
    "^ Above .info we can see that there are in features null values are present like >>\n",
    "rate- 43942 , location - 51696 ,rest_type - 51490 , cuisines - 51672 , approx_cost(for two people) - 51371\n",
    "\n",
    "so we have to handle missing values"
   ]
  },
  {
   "cell_type": "code",
   "execution_count": 12,
   "id": "59a72715",
   "metadata": {},
   "outputs": [
    {
     "name": "stdout",
     "output_type": "stream",
     "text": [
      "<class 'pandas.core.frame.DataFrame'>\n",
      "Int64Index: 51717 entries, 0 to 51716\n",
      "Data columns (total 11 columns):\n",
      " #   Column                       Non-Null Count  Dtype \n",
      "---  ------                       --------------  ----- \n",
      " 0   name                         51717 non-null  object\n",
      " 1   online_order                 51717 non-null  object\n",
      " 2   book_table                   51717 non-null  object\n",
      " 3   rate                         43942 non-null  object\n",
      " 4   votes                        51717 non-null  int64 \n",
      " 5   location                     51696 non-null  object\n",
      " 6   rest_type                    51490 non-null  object\n",
      " 7   cuisines                     51672 non-null  object\n",
      " 8   approx_cost(for two people)  51371 non-null  object\n",
      " 9   listed_in(type)              51717 non-null  object\n",
      " 10  listed_in(city)              51717 non-null  object\n",
      "dtypes: int64(1), object(10)\n",
      "memory usage: 4.7+ MB\n"
     ]
    }
   ],
   "source": [
    "# After drop features in dataset \n",
    "rest_data.info()"
   ]
  },
  {
   "cell_type": "markdown",
   "id": "f527e8d5",
   "metadata": {},
   "source": [
    "##### >>Dropping Duplicates in Dataset "
   ]
  },
  {
   "cell_type": "code",
   "execution_count": 13,
   "id": "78e8900d",
   "metadata": {},
   "outputs": [
    {
     "data": {
      "text/plain": [
       "(51609, 11)"
      ]
     },
     "execution_count": 13,
     "metadata": {},
     "output_type": "execute_result"
    }
   ],
   "source": [
    "rest_data.drop_duplicates(inplace= True)\n",
    "rest_data.shape"
   ]
  },
  {
   "cell_type": "code",
   "execution_count": 14,
   "id": "f2b08d35",
   "metadata": {},
   "outputs": [
    {
     "data": {
      "text/html": [
       "<div>\n",
       "<style scoped>\n",
       "    .dataframe tbody tr th:only-of-type {\n",
       "        vertical-align: middle;\n",
       "    }\n",
       "\n",
       "    .dataframe tbody tr th {\n",
       "        vertical-align: top;\n",
       "    }\n",
       "\n",
       "    .dataframe thead th {\n",
       "        text-align: right;\n",
       "    }\n",
       "</style>\n",
       "<table border=\"1\" class=\"dataframe\">\n",
       "  <thead>\n",
       "    <tr style=\"text-align: right;\">\n",
       "      <th></th>\n",
       "      <th>name</th>\n",
       "      <th>online_order</th>\n",
       "      <th>book_table</th>\n",
       "      <th>rate</th>\n",
       "      <th>votes</th>\n",
       "      <th>location</th>\n",
       "      <th>rest_type</th>\n",
       "      <th>cuisines</th>\n",
       "      <th>approx_cost(for two people)</th>\n",
       "      <th>listed_in(type)</th>\n",
       "      <th>listed_in(city)</th>\n",
       "    </tr>\n",
       "  </thead>\n",
       "  <tbody>\n",
       "    <tr>\n",
       "      <th>0</th>\n",
       "      <td>Jalsa</td>\n",
       "      <td>Yes</td>\n",
       "      <td>Yes</td>\n",
       "      <td>4.1/5</td>\n",
       "      <td>775</td>\n",
       "      <td>Banashankari</td>\n",
       "      <td>Casual Dining</td>\n",
       "      <td>North Indian, Mughlai, Chinese</td>\n",
       "      <td>800</td>\n",
       "      <td>Buffet</td>\n",
       "      <td>Banashankari</td>\n",
       "    </tr>\n",
       "    <tr>\n",
       "      <th>1</th>\n",
       "      <td>Spice Elephant</td>\n",
       "      <td>Yes</td>\n",
       "      <td>No</td>\n",
       "      <td>4.1/5</td>\n",
       "      <td>787</td>\n",
       "      <td>Banashankari</td>\n",
       "      <td>Casual Dining</td>\n",
       "      <td>Chinese, North Indian, Thai</td>\n",
       "      <td>800</td>\n",
       "      <td>Buffet</td>\n",
       "      <td>Banashankari</td>\n",
       "    </tr>\n",
       "    <tr>\n",
       "      <th>2</th>\n",
       "      <td>San Churro Cafe</td>\n",
       "      <td>Yes</td>\n",
       "      <td>No</td>\n",
       "      <td>3.8/5</td>\n",
       "      <td>918</td>\n",
       "      <td>Banashankari</td>\n",
       "      <td>Cafe, Casual Dining</td>\n",
       "      <td>Cafe, Mexican, Italian</td>\n",
       "      <td>800</td>\n",
       "      <td>Buffet</td>\n",
       "      <td>Banashankari</td>\n",
       "    </tr>\n",
       "  </tbody>\n",
       "</table>\n",
       "</div>"
      ],
      "text/plain": [
       "              name online_order book_table   rate  votes      location  \\\n",
       "0            Jalsa          Yes        Yes  4.1/5    775  Banashankari   \n",
       "1   Spice Elephant          Yes         No  4.1/5    787  Banashankari   \n",
       "2  San Churro Cafe          Yes         No  3.8/5    918  Banashankari   \n",
       "\n",
       "             rest_type                        cuisines  \\\n",
       "0        Casual Dining  North Indian, Mughlai, Chinese   \n",
       "1        Casual Dining     Chinese, North Indian, Thai   \n",
       "2  Cafe, Casual Dining          Cafe, Mexican, Italian   \n",
       "\n",
       "  approx_cost(for two people) listed_in(type) listed_in(city)  \n",
       "0                         800          Buffet    Banashankari  \n",
       "1                         800          Buffet    Banashankari  \n",
       "2                         800          Buffet    Banashankari  "
      ]
     },
     "execution_count": 14,
     "metadata": {},
     "output_type": "execute_result"
    }
   ],
   "source": [
    "rest_data.head(3)"
   ]
  },
  {
   "cell_type": "markdown",
   "id": "ddd00037",
   "metadata": {},
   "source": [
    "##### >>Clean the rate column"
   ]
  },
  {
   "cell_type": "code",
   "execution_count": 15,
   "id": "666d74a2",
   "metadata": {},
   "outputs": [
    {
     "data": {
      "text/plain": [
       "array(['4.1/5', '3.8/5', '3.7/5', '3.6/5', '4.6/5', '4.0/5', '4.2/5',\n",
       "       '3.9/5', '3.1/5', '3.0/5', '3.2/5', '3.3/5', '2.8/5', '4.4/5',\n",
       "       '4.3/5', 'NEW', '2.9/5', '3.5/5', nan, '2.6/5', '3.8 /5', '3.4/5',\n",
       "       '4.5/5', '2.5/5', '2.7/5', '4.7/5', '2.4/5', '2.2/5', '2.3/5',\n",
       "       '3.4 /5', '-', '3.6 /5', '4.8/5', '3.9 /5', '4.2 /5', '4.0 /5',\n",
       "       '4.1 /5', '3.7 /5', '3.1 /5', '2.9 /5', '3.3 /5', '2.8 /5',\n",
       "       '3.5 /5', '2.7 /5', '2.5 /5', '3.2 /5', '2.6 /5', '4.5 /5',\n",
       "       '4.3 /5', '4.4 /5', '4.9/5', '2.1/5', '2.0/5', '1.8/5', '4.6 /5',\n",
       "       '4.9 /5', '3.0 /5', '4.8 /5', '2.3 /5', '4.7 /5', '2.4 /5',\n",
       "       '2.1 /5', '2.2 /5', '2.0 /5', '1.8 /5'], dtype=object)"
      ]
     },
     "execution_count": 15,
     "metadata": {},
     "output_type": "execute_result"
    }
   ],
   "source": [
    "rest_data[\"rate\"].unique()"
   ]
  },
  {
   "cell_type": "code",
   "execution_count": 16,
   "id": "f2d16fd8",
   "metadata": {},
   "outputs": [],
   "source": [
    "# rest_data.rate[(rest_data == \"NEW\") & (rest_data == \"-\")]"
   ]
  },
  {
   "cell_type": "code",
   "execution_count": 17,
   "id": "04553607",
   "metadata": {},
   "outputs": [
    {
     "data": {
      "text/plain": [
       "0    4.1\n",
       "1    4.1\n",
       "2    3.8\n",
       "3    3.7\n",
       "4    3.8\n",
       "5    3.8\n",
       "Name: rate, dtype: float64"
      ]
     },
     "execution_count": 17,
     "metadata": {},
     "output_type": "execute_result"
    }
   ],
   "source": [
    "# Removing the values in column >> \"NEW\" , \"-\" , \"/5\" from rate column\n",
    "def rate_col (value):\n",
    "    if (value == \"NEW\" or value == \"-\"):\n",
    "        return np.nan\n",
    "    else:\n",
    "        value = str (value).split(\"/\")\n",
    "        value = value [0]\n",
    "        return float (value)\n",
    "rest_data[\"rate\"] = rest_data [\"rate\"].apply (rate_col)\n",
    "rest_data[\"rate\"].head(6)"
   ]
  },
  {
   "cell_type": "code",
   "execution_count": 18,
   "id": "f358056f",
   "metadata": {},
   "outputs": [],
   "source": [
    "# Alternate way of spliting \n",
    "\n",
    "# rest_data[\"rate\"] =  rest_data[\"rate\"].str.split(\"/\").str.get(0)\n",
    "#  rest_data[\"rate\"]"
   ]
  },
  {
   "cell_type": "code",
   "execution_count": 19,
   "id": "87c00bab",
   "metadata": {},
   "outputs": [
    {
     "data": {
      "text/plain": [
       "10019"
      ]
     },
     "execution_count": 19,
     "metadata": {},
     "output_type": "execute_result"
    }
   ],
   "source": [
    "# Check null values in rate column\n",
    "rest_data.rate.isna().sum()"
   ]
  },
  {
   "cell_type": "code",
   "execution_count": 20,
   "id": "721cd21b",
   "metadata": {},
   "outputs": [
    {
     "data": {
      "text/plain": [
       "0"
      ]
     },
     "execution_count": 20,
     "metadata": {},
     "output_type": "execute_result"
    }
   ],
   "source": [
    "# now we will do the fill null values in rate column with mean\n",
    "rest_data[\"rate\"].fillna(rest_data[\"rate\"].mean() , inplace= True)\n",
    "rest_data[\"rate\"].isnull().sum()"
   ]
  },
  {
   "cell_type": "code",
   "execution_count": 21,
   "id": "1a907efd",
   "metadata": {},
   "outputs": [
    {
     "data": {
      "text/plain": [
       "0"
      ]
     },
     "execution_count": 21,
     "metadata": {},
     "output_type": "execute_result"
    }
   ],
   "source": [
    "# After Fill na value using mean Checking The Output of rate column\n",
    "rest_data.rate.isna().sum()"
   ]
  },
  {
   "cell_type": "code",
   "execution_count": 22,
   "id": "f3c01164",
   "metadata": {},
   "outputs": [
    {
     "name": "stdout",
     "output_type": "stream",
     "text": [
      "<class 'pandas.core.frame.DataFrame'>\n",
      "Int64Index: 51609 entries, 0 to 51716\n",
      "Data columns (total 11 columns):\n",
      " #   Column                       Non-Null Count  Dtype  \n",
      "---  ------                       --------------  -----  \n",
      " 0   name                         51609 non-null  object \n",
      " 1   online_order                 51609 non-null  object \n",
      " 2   book_table                   51609 non-null  object \n",
      " 3   rate                         51609 non-null  float64\n",
      " 4   votes                        51609 non-null  int64  \n",
      " 5   location                     51588 non-null  object \n",
      " 6   rest_type                    51382 non-null  object \n",
      " 7   cuisines                     51564 non-null  object \n",
      " 8   approx_cost(for two people)  51265 non-null  object \n",
      " 9   listed_in(type)              51609 non-null  object \n",
      " 10  listed_in(city)              51609 non-null  object \n",
      "dtypes: float64(1), int64(1), object(9)\n",
      "memory usage: 4.7+ MB\n"
     ]
    }
   ],
   "source": [
    "rest_data.info()"
   ]
  },
  {
   "cell_type": "code",
   "execution_count": 23,
   "id": "a6005bbc",
   "metadata": {},
   "outputs": [
    {
     "data": {
      "text/html": [
       "<div>\n",
       "<style scoped>\n",
       "    .dataframe tbody tr th:only-of-type {\n",
       "        vertical-align: middle;\n",
       "    }\n",
       "\n",
       "    .dataframe tbody tr th {\n",
       "        vertical-align: top;\n",
       "    }\n",
       "\n",
       "    .dataframe thead th {\n",
       "        text-align: right;\n",
       "    }\n",
       "</style>\n",
       "<table border=\"1\" class=\"dataframe\">\n",
       "  <thead>\n",
       "    <tr style=\"text-align: right;\">\n",
       "      <th></th>\n",
       "      <th>name</th>\n",
       "      <th>online_order</th>\n",
       "      <th>book_table</th>\n",
       "      <th>rate</th>\n",
       "      <th>votes</th>\n",
       "      <th>location</th>\n",
       "      <th>rest_type</th>\n",
       "      <th>cuisines</th>\n",
       "      <th>cost2people</th>\n",
       "      <th>type</th>\n",
       "      <th>city</th>\n",
       "    </tr>\n",
       "  </thead>\n",
       "  <tbody>\n",
       "    <tr>\n",
       "      <th>0</th>\n",
       "      <td>Jalsa</td>\n",
       "      <td>Yes</td>\n",
       "      <td>Yes</td>\n",
       "      <td>4.1</td>\n",
       "      <td>775</td>\n",
       "      <td>Banashankari</td>\n",
       "      <td>Casual Dining</td>\n",
       "      <td>North Indian, Mughlai, Chinese</td>\n",
       "      <td>800</td>\n",
       "      <td>Buffet</td>\n",
       "      <td>Banashankari</td>\n",
       "    </tr>\n",
       "    <tr>\n",
       "      <th>1</th>\n",
       "      <td>Spice Elephant</td>\n",
       "      <td>Yes</td>\n",
       "      <td>No</td>\n",
       "      <td>4.1</td>\n",
       "      <td>787</td>\n",
       "      <td>Banashankari</td>\n",
       "      <td>Casual Dining</td>\n",
       "      <td>Chinese, North Indian, Thai</td>\n",
       "      <td>800</td>\n",
       "      <td>Buffet</td>\n",
       "      <td>Banashankari</td>\n",
       "    </tr>\n",
       "    <tr>\n",
       "      <th>2</th>\n",
       "      <td>San Churro Cafe</td>\n",
       "      <td>Yes</td>\n",
       "      <td>No</td>\n",
       "      <td>3.8</td>\n",
       "      <td>918</td>\n",
       "      <td>Banashankari</td>\n",
       "      <td>Cafe, Casual Dining</td>\n",
       "      <td>Cafe, Mexican, Italian</td>\n",
       "      <td>800</td>\n",
       "      <td>Buffet</td>\n",
       "      <td>Banashankari</td>\n",
       "    </tr>\n",
       "    <tr>\n",
       "      <th>3</th>\n",
       "      <td>Addhuri Udupi Bhojana</td>\n",
       "      <td>No</td>\n",
       "      <td>No</td>\n",
       "      <td>3.7</td>\n",
       "      <td>88</td>\n",
       "      <td>Banashankari</td>\n",
       "      <td>Quick Bites</td>\n",
       "      <td>South Indian, North Indian</td>\n",
       "      <td>300</td>\n",
       "      <td>Buffet</td>\n",
       "      <td>Banashankari</td>\n",
       "    </tr>\n",
       "    <tr>\n",
       "      <th>4</th>\n",
       "      <td>Grand Village</td>\n",
       "      <td>No</td>\n",
       "      <td>No</td>\n",
       "      <td>3.8</td>\n",
       "      <td>166</td>\n",
       "      <td>Basavanagudi</td>\n",
       "      <td>Casual Dining</td>\n",
       "      <td>North Indian, Rajasthani</td>\n",
       "      <td>600</td>\n",
       "      <td>Buffet</td>\n",
       "      <td>Banashankari</td>\n",
       "    </tr>\n",
       "  </tbody>\n",
       "</table>\n",
       "</div>"
      ],
      "text/plain": [
       "                    name online_order book_table  rate  votes      location  \\\n",
       "0                  Jalsa          Yes        Yes   4.1    775  Banashankari   \n",
       "1         Spice Elephant          Yes         No   4.1    787  Banashankari   \n",
       "2        San Churro Cafe          Yes         No   3.8    918  Banashankari   \n",
       "3  Addhuri Udupi Bhojana           No         No   3.7     88  Banashankari   \n",
       "4          Grand Village           No         No   3.8    166  Basavanagudi   \n",
       "\n",
       "             rest_type                        cuisines cost2people    type  \\\n",
       "0        Casual Dining  North Indian, Mughlai, Chinese         800  Buffet   \n",
       "1        Casual Dining     Chinese, North Indian, Thai         800  Buffet   \n",
       "2  Cafe, Casual Dining          Cafe, Mexican, Italian         800  Buffet   \n",
       "3          Quick Bites      South Indian, North Indian         300  Buffet   \n",
       "4        Casual Dining        North Indian, Rajasthani         600  Buffet   \n",
       "\n",
       "           city  \n",
       "0  Banashankari  \n",
       "1  Banashankari  \n",
       "2  Banashankari  \n",
       "3  Banashankari  \n",
       "4  Banashankari  "
      ]
     },
     "execution_count": 23,
     "metadata": {},
     "output_type": "execute_result"
    }
   ],
   "source": [
    "# Renaming the column>> approx_cost(for two people) ::: cost2people , listed_in(type) ::: type , listed_in(city) ::: city\n",
    "\n",
    "rest_data.rename (columns= {\"approx_cost(for two people)\" : \"cost2people\" , \"listed_in(type)\" : \"type\" , \"listed_in(city)\" : \"city\"}, inplace = True)\n",
    "rest_data.head(5)"
   ]
  },
  {
   "cell_type": "code",
   "execution_count": 24,
   "id": "ea134221",
   "metadata": {},
   "outputs": [
    {
     "name": "stdout",
     "output_type": "stream",
     "text": [
      "<class 'pandas.core.frame.DataFrame'>\n",
      "Int64Index: 51609 entries, 0 to 51716\n",
      "Data columns (total 11 columns):\n",
      " #   Column        Non-Null Count  Dtype  \n",
      "---  ------        --------------  -----  \n",
      " 0   name          51609 non-null  object \n",
      " 1   online_order  51609 non-null  object \n",
      " 2   book_table    51609 non-null  object \n",
      " 3   rate          51609 non-null  float64\n",
      " 4   votes         51609 non-null  int64  \n",
      " 5   location      51588 non-null  object \n",
      " 6   rest_type     51382 non-null  object \n",
      " 7   cuisines      51564 non-null  object \n",
      " 8   cost2people   51265 non-null  object \n",
      " 9   type          51609 non-null  object \n",
      " 10  city          51609 non-null  object \n",
      "dtypes: float64(1), int64(1), object(9)\n",
      "memory usage: 4.7+ MB\n"
     ]
    }
   ],
   "source": [
    "rest_data.info()"
   ]
  },
  {
   "cell_type": "code",
   "execution_count": 25,
   "id": "942ac701",
   "metadata": {},
   "outputs": [
    {
     "data": {
      "text/plain": [
       "array(['Banashankari', 'Basavanagudi', 'Mysore Road', 'Jayanagar',\n",
       "       'Kumaraswamy Layout', 'Rajarajeshwari Nagar', 'Vijay Nagar',\n",
       "       'Uttarahalli', 'JP Nagar', 'South Bangalore', 'City Market',\n",
       "       'Nagarbhavi', 'Bannerghatta Road', 'BTM', 'Kanakapura Road',\n",
       "       'Bommanahalli', nan, 'CV Raman Nagar', 'Electronic City', 'HSR',\n",
       "       'Marathahalli', 'Sarjapur Road', 'Wilson Garden', 'Shanti Nagar',\n",
       "       'Koramangala 5th Block', 'Koramangala 8th Block', 'Richmond Road',\n",
       "       'Koramangala 7th Block', 'Jalahalli', 'Koramangala 4th Block',\n",
       "       'Bellandur', 'Whitefield', 'East Bangalore', 'Old Airport Road',\n",
       "       'Indiranagar', 'Koramangala 1st Block', 'Frazer Town', 'RT Nagar',\n",
       "       'MG Road', 'Brigade Road', 'Lavelle Road', 'Church Street',\n",
       "       'Ulsoor', 'Residency Road', 'Shivajinagar', 'Infantry Road',\n",
       "       'St. Marks Road', 'Cunningham Road', 'Race Course Road',\n",
       "       'Commercial Street', 'Vasanth Nagar', 'HBR Layout', 'Domlur',\n",
       "       'Ejipura', 'Jeevan Bhima Nagar', 'Old Madras Road', 'Malleshwaram',\n",
       "       'Seshadripuram', 'Kammanahalli', 'Koramangala 6th Block',\n",
       "       'Majestic', 'Langford Town', 'Central Bangalore', 'Sanjay Nagar',\n",
       "       'Brookefield', 'ITPL Main Road, Whitefield',\n",
       "       'Varthur Main Road, Whitefield', 'KR Puram',\n",
       "       'Koramangala 2nd Block', 'Koramangala 3rd Block', 'Koramangala',\n",
       "       'Hosur Road', 'Rajajinagar', 'Banaswadi', 'North Bangalore',\n",
       "       'Nagawara', 'Hennur', 'Kalyan Nagar', 'New BEL Road', 'Jakkur',\n",
       "       'Rammurthy Nagar', 'Thippasandra', 'Kaggadasapura', 'Hebbal',\n",
       "       'Kengeri', 'Sankey Road', 'Sadashiv Nagar', 'Basaveshwara Nagar',\n",
       "       'Yeshwantpur', 'West Bangalore', 'Magadi Road', 'Yelahanka',\n",
       "       'Sahakara Nagar', 'Peenya'], dtype=object)"
      ]
     },
     "execution_count": 25,
     "metadata": {},
     "output_type": "execute_result"
    }
   ],
   "source": [
    "rest_data[\"location\"].unique()"
   ]
  },
  {
   "cell_type": "code",
   "execution_count": 26,
   "id": "92a315c7",
   "metadata": {},
   "outputs": [
    {
     "data": {
      "text/plain": [
       "array(['Casual Dining', 'Cafe, Casual Dining', 'Quick Bites',\n",
       "       'Casual Dining, Cafe', 'Cafe', 'Quick Bites, Cafe',\n",
       "       'Cafe, Quick Bites', 'Delivery', 'Mess', 'Dessert Parlor',\n",
       "       'Bakery, Dessert Parlor', 'Pub', 'Bakery', 'Takeaway, Delivery',\n",
       "       'Fine Dining', 'Beverage Shop', 'Sweet Shop', 'Bar',\n",
       "       'Beverage Shop, Quick Bites', 'Confectionery',\n",
       "       'Quick Bites, Beverage Shop', 'Dessert Parlor, Sweet Shop',\n",
       "       'Bakery, Quick Bites', 'Sweet Shop, Quick Bites', 'Kiosk',\n",
       "       'Food Truck', 'Quick Bites, Dessert Parlor',\n",
       "       'Beverage Shop, Dessert Parlor', 'Takeaway', 'Pub, Casual Dining',\n",
       "       'Casual Dining, Bar', 'Dessert Parlor, Beverage Shop',\n",
       "       'Quick Bites, Bakery', 'Dessert Parlor, Quick Bites',\n",
       "       'Microbrewery, Casual Dining', 'Lounge', 'Bar, Casual Dining',\n",
       "       'Food Court', 'Cafe, Bakery', nan, 'Dhaba',\n",
       "       'Quick Bites, Sweet Shop', 'Microbrewery',\n",
       "       'Food Court, Quick Bites', 'Pub, Bar', 'Casual Dining, Pub',\n",
       "       'Lounge, Bar', 'Food Court, Dessert Parlor',\n",
       "       'Casual Dining, Sweet Shop', 'Food Court, Casual Dining',\n",
       "       'Casual Dining, Microbrewery', 'Sweet Shop, Dessert Parlor',\n",
       "       'Bakery, Beverage Shop', 'Lounge, Casual Dining',\n",
       "       'Cafe, Food Court', 'Beverage Shop, Cafe', 'Cafe, Dessert Parlor',\n",
       "       'Dessert Parlor, Cafe', 'Dessert Parlor, Bakery',\n",
       "       'Microbrewery, Pub', 'Bakery, Food Court', 'Club',\n",
       "       'Quick Bites, Food Court', 'Bakery, Cafe', 'Bar, Cafe',\n",
       "       'Pub, Cafe', 'Casual Dining, Irani Cafee', 'Fine Dining, Lounge',\n",
       "       'Bar, Quick Bites', 'Bakery, Kiosk', 'Pub, Microbrewery',\n",
       "       'Microbrewery, Lounge', 'Fine Dining, Microbrewery',\n",
       "       'Fine Dining, Bar', 'Mess, Quick Bites', 'Dessert Parlor, Kiosk',\n",
       "       'Bhojanalya', 'Casual Dining, Quick Bites', 'Pop Up', 'Cafe, Bar',\n",
       "       'Casual Dining, Lounge', 'Bakery, Sweet Shop', 'Microbrewery, Bar',\n",
       "       'Cafe, Lounge', 'Bar, Pub', 'Lounge, Cafe', 'Club, Casual Dining',\n",
       "       'Quick Bites, Mess', 'Quick Bites, Meat Shop',\n",
       "       'Quick Bites, Kiosk', 'Lounge, Microbrewery',\n",
       "       'Food Court, Beverage Shop', 'Dessert Parlor, Food Court',\n",
       "       'Bar, Lounge'], dtype=object)"
      ]
     },
     "execution_count": 26,
     "metadata": {},
     "output_type": "execute_result"
    }
   ],
   "source": [
    "rest_data[\"rest_type\"].unique()"
   ]
  },
  {
   "cell_type": "code",
   "execution_count": 27,
   "id": "c68b2eee",
   "metadata": {
    "scrolled": true
   },
   "outputs": [
    {
     "data": {
      "text/plain": [
       "array(['North Indian, Mughlai, Chinese', 'Chinese, North Indian, Thai',\n",
       "       'Cafe, Mexican, Italian', ...,\n",
       "       'North Indian, Street Food, Biryani', 'Chinese, Mughlai',\n",
       "       'North Indian, Chinese, Arabian, Momos'], dtype=object)"
      ]
     },
     "execution_count": 27,
     "metadata": {},
     "output_type": "execute_result"
    }
   ],
   "source": [
    "rest_data[\"cuisines\"].unique()"
   ]
  },
  {
   "cell_type": "code",
   "execution_count": 28,
   "id": "2408f0b2",
   "metadata": {},
   "outputs": [
    {
     "data": {
      "text/plain": [
       "array(['800', '300', '600', '700', '550', '500', '450', '650', '400',\n",
       "       '900', '200', '750', '150', '850', '100', '1,200', '350', '250',\n",
       "       '950', '1,000', '1,500', '1,300', '199', '80', '1,100', '160',\n",
       "       '1,600', '230', '130', '50', '190', '1,700', nan, '1,400', '180',\n",
       "       '1,350', '2,200', '2,000', '1,800', '1,900', '330', '2,500',\n",
       "       '2,100', '3,000', '2,800', '3,400', '40', '1,250', '3,500',\n",
       "       '4,000', '2,400', '2,600', '120', '1,450', '469', '70', '3,200',\n",
       "       '60', '560', '240', '360', '6,000', '1,050', '2,300', '4,100',\n",
       "       '5,000', '3,700', '1,650', '2,700', '4,500', '140'], dtype=object)"
      ]
     },
     "execution_count": 28,
     "metadata": {},
     "output_type": "execute_result"
    }
   ],
   "source": [
    "rest_data[\"cost2people\"].unique()"
   ]
  },
  {
   "cell_type": "code",
   "execution_count": 29,
   "id": "cfbf6709",
   "metadata": {},
   "outputs": [
    {
     "data": {
      "text/html": [
       "<div>\n",
       "<style scoped>\n",
       "    .dataframe tbody tr th:only-of-type {\n",
       "        vertical-align: middle;\n",
       "    }\n",
       "\n",
       "    .dataframe tbody tr th {\n",
       "        vertical-align: top;\n",
       "    }\n",
       "\n",
       "    .dataframe thead th {\n",
       "        text-align: right;\n",
       "    }\n",
       "</style>\n",
       "<table border=\"1\" class=\"dataframe\">\n",
       "  <thead>\n",
       "    <tr style=\"text-align: right;\">\n",
       "      <th></th>\n",
       "      <th>name</th>\n",
       "      <th>online_order</th>\n",
       "      <th>book_table</th>\n",
       "      <th>rate</th>\n",
       "      <th>votes</th>\n",
       "      <th>rest_type</th>\n",
       "      <th>cuisines</th>\n",
       "      <th>cost2people</th>\n",
       "      <th>type</th>\n",
       "      <th>city</th>\n",
       "    </tr>\n",
       "  </thead>\n",
       "  <tbody>\n",
       "    <tr>\n",
       "      <th>51712</th>\n",
       "      <td>Best Brews - Four Points by Sheraton Bengaluru...</td>\n",
       "      <td>No</td>\n",
       "      <td>No</td>\n",
       "      <td>3.600000</td>\n",
       "      <td>27</td>\n",
       "      <td>Bar</td>\n",
       "      <td>Continental</td>\n",
       "      <td>1,500</td>\n",
       "      <td>Pubs and bars</td>\n",
       "      <td>Whitefield</td>\n",
       "    </tr>\n",
       "    <tr>\n",
       "      <th>51713</th>\n",
       "      <td>Vinod Bar And Restaurant</td>\n",
       "      <td>No</td>\n",
       "      <td>No</td>\n",
       "      <td>3.700142</td>\n",
       "      <td>0</td>\n",
       "      <td>Bar</td>\n",
       "      <td>Finger Food</td>\n",
       "      <td>600</td>\n",
       "      <td>Pubs and bars</td>\n",
       "      <td>Whitefield</td>\n",
       "    </tr>\n",
       "    <tr>\n",
       "      <th>51714</th>\n",
       "      <td>Plunge - Sheraton Grand Bengaluru Whitefield H...</td>\n",
       "      <td>No</td>\n",
       "      <td>No</td>\n",
       "      <td>3.700142</td>\n",
       "      <td>0</td>\n",
       "      <td>Bar</td>\n",
       "      <td>Finger Food</td>\n",
       "      <td>2,000</td>\n",
       "      <td>Pubs and bars</td>\n",
       "      <td>Whitefield</td>\n",
       "    </tr>\n",
       "    <tr>\n",
       "      <th>51715</th>\n",
       "      <td>Chime - Sheraton Grand Bengaluru Whitefield Ho...</td>\n",
       "      <td>No</td>\n",
       "      <td>Yes</td>\n",
       "      <td>4.300000</td>\n",
       "      <td>236</td>\n",
       "      <td>Bar</td>\n",
       "      <td>Finger Food</td>\n",
       "      <td>2,500</td>\n",
       "      <td>Pubs and bars</td>\n",
       "      <td>Whitefield</td>\n",
       "    </tr>\n",
       "    <tr>\n",
       "      <th>51716</th>\n",
       "      <td>The Nest - The Den Bengaluru</td>\n",
       "      <td>No</td>\n",
       "      <td>No</td>\n",
       "      <td>3.400000</td>\n",
       "      <td>13</td>\n",
       "      <td>Bar, Casual Dining</td>\n",
       "      <td>Finger Food, North Indian, Continental</td>\n",
       "      <td>1,500</td>\n",
       "      <td>Pubs and bars</td>\n",
       "      <td>Whitefield</td>\n",
       "    </tr>\n",
       "  </tbody>\n",
       "</table>\n",
       "</div>"
      ],
      "text/plain": [
       "                                                    name online_order  \\\n",
       "51712  Best Brews - Four Points by Sheraton Bengaluru...           No   \n",
       "51713                           Vinod Bar And Restaurant           No   \n",
       "51714  Plunge - Sheraton Grand Bengaluru Whitefield H...           No   \n",
       "51715  Chime - Sheraton Grand Bengaluru Whitefield Ho...           No   \n",
       "51716                       The Nest - The Den Bengaluru           No   \n",
       "\n",
       "      book_table      rate  votes           rest_type  \\\n",
       "51712         No  3.600000     27                 Bar   \n",
       "51713         No  3.700142      0                 Bar   \n",
       "51714         No  3.700142      0                 Bar   \n",
       "51715        Yes  4.300000    236                 Bar   \n",
       "51716         No  3.400000     13  Bar, Casual Dining   \n",
       "\n",
       "                                     cuisines cost2people           type  \\\n",
       "51712                             Continental       1,500  Pubs and bars   \n",
       "51713                             Finger Food         600  Pubs and bars   \n",
       "51714                             Finger Food       2,000  Pubs and bars   \n",
       "51715                             Finger Food       2,500  Pubs and bars   \n",
       "51716  Finger Food, North Indian, Continental       1,500  Pubs and bars   \n",
       "\n",
       "             city  \n",
       "51712  Whitefield  \n",
       "51713  Whitefield  \n",
       "51714  Whitefield  \n",
       "51715  Whitefield  \n",
       "51716  Whitefield  "
      ]
     },
     "execution_count": 29,
     "metadata": {},
     "output_type": "execute_result"
    }
   ],
   "source": [
    "# so both \"location\" and \"city\" columns are there so we need to drop one of them because both columns are same.\n",
    "\n",
    "rest_data = rest_data.drop([\"location\"],axis = 1)\n",
    "rest_data.tail(5)"
   ]
  },
  {
   "cell_type": "markdown",
   "id": "4a56e3c3",
   "metadata": {},
   "source": [
    "### cost2people"
   ]
  },
  {
   "cell_type": "code",
   "execution_count": 30,
   "id": "9b65a487",
   "metadata": {},
   "outputs": [
    {
     "data": {
      "text/plain": [
       "array(['800', '300', '600', '700', '550', '500', '450', '650', '400',\n",
       "       '900', '200', '750', '150', '850', '100', '1,200', '350', '250',\n",
       "       '950', '1,000', '1,500', '1,300', '199', '80', '1,100', '160',\n",
       "       '1,600', '230', '130', '50', '190', '1,700', nan, '1,400', '180',\n",
       "       '1,350', '2,200', '2,000', '1,800', '1,900', '330', '2,500',\n",
       "       '2,100', '3,000', '2,800', '3,400', '40', '1,250', '3,500',\n",
       "       '4,000', '2,400', '2,600', '120', '1,450', '469', '70', '3,200',\n",
       "       '60', '560', '240', '360', '6,000', '1,050', '2,300', '4,100',\n",
       "       '5,000', '3,700', '1,650', '2,700', '4,500', '140'], dtype=object)"
      ]
     },
     "execution_count": 30,
     "metadata": {},
     "output_type": "execute_result"
    }
   ],
   "source": [
    "rest_data[\"cost2people\"].unique()"
   ]
  },
  {
   "cell_type": "code",
   "execution_count": 31,
   "id": "5a0a5391",
   "metadata": {},
   "outputs": [],
   "source": [
    "# removed from \"cost2people\" (,) and nan"
   ]
  },
  {
   "cell_type": "code",
   "execution_count": 32,
   "id": "467858c0",
   "metadata": {},
   "outputs": [
    {
     "data": {
      "text/plain": [
       "344"
      ]
     },
     "execution_count": 32,
     "metadata": {},
     "output_type": "execute_result"
    }
   ],
   "source": [
    "rest_data[\"cost2people\"].isna().sum()"
   ]
  },
  {
   "cell_type": "code",
   "execution_count": 33,
   "id": "1bd3ec79",
   "metadata": {},
   "outputs": [],
   "source": [
    "# rest_data[\"cost2people\"] = rest_data[\"cost2people\"].apply(lambda x: x.replace(',','')if type (x) == np.str else x)\n",
    "# rest_data[\"cost2people\"]\n",
    "# rest_data.cost2people = rest_data.cost2people.apply(df).str.strip().astype('float')"
   ]
  },
  {
   "cell_type": "code",
   "execution_count": 34,
   "id": "7a0da5cf",
   "metadata": {},
   "outputs": [
    {
     "data": {
      "text/plain": [
       "array([ 800.,  300.,  600.,  700.,  550.,  500.,  450.,  650.,  400.,\n",
       "        900.,  200.,  750.,  150.,  850.,  100., 1200.,  350.,  250.,\n",
       "        950., 1000., 1500., 1300.,  199.,   80., 1100.,  160., 1600.,\n",
       "        230.,  130.,   50.,  190., 1700.,   nan, 1400.,  180., 1350.,\n",
       "       2200., 2000., 1800., 1900.,  330., 2500., 2100., 3000., 2800.,\n",
       "       3400.,   40., 1250., 3500., 4000., 2400., 2600.,  120., 1450.,\n",
       "        469.,   70., 3200.,   60.,  560.,  240.,  360., 6000., 1050.,\n",
       "       2300., 4100., 5000., 3700., 1650., 2700., 4500.,  140.])"
      ]
     },
     "execution_count": 34,
     "metadata": {},
     "output_type": "execute_result"
    }
   ],
   "source": [
    "def comma_remove (value):\n",
    "    value = str(value)\n",
    "    if \",\" in value:\n",
    "        value = value.replace(\",\",\"\")\n",
    "        return float (value)\n",
    "    else :\n",
    "        return float (value)\n",
    "\n",
    "rest_data[\"cost2people\"] = rest_data[\"cost2people\"].apply (comma_remove)\n",
    "rest_data[\"cost2people\"].unique()"
   ]
  },
  {
   "cell_type": "code",
   "execution_count": 35,
   "id": "ecdcacfb",
   "metadata": {},
   "outputs": [
    {
     "data": {
      "text/html": [
       "<div>\n",
       "<style scoped>\n",
       "    .dataframe tbody tr th:only-of-type {\n",
       "        vertical-align: middle;\n",
       "    }\n",
       "\n",
       "    .dataframe tbody tr th {\n",
       "        vertical-align: top;\n",
       "    }\n",
       "\n",
       "    .dataframe thead th {\n",
       "        text-align: right;\n",
       "    }\n",
       "</style>\n",
       "<table border=\"1\" class=\"dataframe\">\n",
       "  <thead>\n",
       "    <tr style=\"text-align: right;\">\n",
       "      <th></th>\n",
       "      <th>name</th>\n",
       "      <th>online_order</th>\n",
       "      <th>book_table</th>\n",
       "      <th>rate</th>\n",
       "      <th>votes</th>\n",
       "      <th>rest_type</th>\n",
       "      <th>cuisines</th>\n",
       "      <th>cost2people</th>\n",
       "      <th>type</th>\n",
       "      <th>city</th>\n",
       "    </tr>\n",
       "  </thead>\n",
       "  <tbody>\n",
       "    <tr>\n",
       "      <th>0</th>\n",
       "      <td>Jalsa</td>\n",
       "      <td>Yes</td>\n",
       "      <td>Yes</td>\n",
       "      <td>4.1</td>\n",
       "      <td>775</td>\n",
       "      <td>Casual Dining</td>\n",
       "      <td>North Indian, Mughlai, Chinese</td>\n",
       "      <td>800.0</td>\n",
       "      <td>Buffet</td>\n",
       "      <td>Banashankari</td>\n",
       "    </tr>\n",
       "    <tr>\n",
       "      <th>1</th>\n",
       "      <td>Spice Elephant</td>\n",
       "      <td>Yes</td>\n",
       "      <td>No</td>\n",
       "      <td>4.1</td>\n",
       "      <td>787</td>\n",
       "      <td>Casual Dining</td>\n",
       "      <td>Chinese, North Indian, Thai</td>\n",
       "      <td>800.0</td>\n",
       "      <td>Buffet</td>\n",
       "      <td>Banashankari</td>\n",
       "    </tr>\n",
       "    <tr>\n",
       "      <th>2</th>\n",
       "      <td>San Churro Cafe</td>\n",
       "      <td>Yes</td>\n",
       "      <td>No</td>\n",
       "      <td>3.8</td>\n",
       "      <td>918</td>\n",
       "      <td>Cafe, Casual Dining</td>\n",
       "      <td>Cafe, Mexican, Italian</td>\n",
       "      <td>800.0</td>\n",
       "      <td>Buffet</td>\n",
       "      <td>Banashankari</td>\n",
       "    </tr>\n",
       "    <tr>\n",
       "      <th>3</th>\n",
       "      <td>Addhuri Udupi Bhojana</td>\n",
       "      <td>No</td>\n",
       "      <td>No</td>\n",
       "      <td>3.7</td>\n",
       "      <td>88</td>\n",
       "      <td>Quick Bites</td>\n",
       "      <td>South Indian, North Indian</td>\n",
       "      <td>300.0</td>\n",
       "      <td>Buffet</td>\n",
       "      <td>Banashankari</td>\n",
       "    </tr>\n",
       "    <tr>\n",
       "      <th>4</th>\n",
       "      <td>Grand Village</td>\n",
       "      <td>No</td>\n",
       "      <td>No</td>\n",
       "      <td>3.8</td>\n",
       "      <td>166</td>\n",
       "      <td>Casual Dining</td>\n",
       "      <td>North Indian, Rajasthani</td>\n",
       "      <td>600.0</td>\n",
       "      <td>Buffet</td>\n",
       "      <td>Banashankari</td>\n",
       "    </tr>\n",
       "  </tbody>\n",
       "</table>\n",
       "</div>"
      ],
      "text/plain": [
       "                    name online_order book_table  rate  votes  \\\n",
       "0                  Jalsa          Yes        Yes   4.1    775   \n",
       "1         Spice Elephant          Yes         No   4.1    787   \n",
       "2        San Churro Cafe          Yes         No   3.8    918   \n",
       "3  Addhuri Udupi Bhojana           No         No   3.7     88   \n",
       "4          Grand Village           No         No   3.8    166   \n",
       "\n",
       "             rest_type                        cuisines  cost2people    type  \\\n",
       "0        Casual Dining  North Indian, Mughlai, Chinese        800.0  Buffet   \n",
       "1        Casual Dining     Chinese, North Indian, Thai        800.0  Buffet   \n",
       "2  Cafe, Casual Dining          Cafe, Mexican, Italian        800.0  Buffet   \n",
       "3          Quick Bites      South Indian, North Indian        300.0  Buffet   \n",
       "4        Casual Dining        North Indian, Rajasthani        600.0  Buffet   \n",
       "\n",
       "           city  \n",
       "0  Banashankari  \n",
       "1  Banashankari  \n",
       "2  Banashankari  \n",
       "3  Banashankari  \n",
       "4  Banashankari  "
      ]
     },
     "execution_count": 35,
     "metadata": {},
     "output_type": "execute_result"
    }
   ],
   "source": [
    "rest_data.head(5)"
   ]
  },
  {
   "cell_type": "code",
   "execution_count": 36,
   "id": "347d44af",
   "metadata": {},
   "outputs": [],
   "source": [
    "rest_data[\"cost2people\"].fillna(rest_data[\"cost2people\"].mode()[0],inplace=True)\n",
    "rest_data[\"cost2people\"]=rest_data[\"cost2people\"].astype(int)"
   ]
  },
  {
   "cell_type": "code",
   "execution_count": 37,
   "id": "854726e1",
   "metadata": {},
   "outputs": [
    {
     "data": {
      "text/plain": [
       "0"
      ]
     },
     "execution_count": 37,
     "metadata": {},
     "output_type": "execute_result"
    }
   ],
   "source": [
    "rest_data[\"cost2people\"].isna().sum()"
   ]
  },
  {
   "cell_type": "code",
   "execution_count": 38,
   "id": "34a0d7b1",
   "metadata": {},
   "outputs": [
    {
     "name": "stdout",
     "output_type": "stream",
     "text": [
      "<class 'pandas.core.frame.DataFrame'>\n",
      "Int64Index: 51609 entries, 0 to 51716\n",
      "Data columns (total 10 columns):\n",
      " #   Column        Non-Null Count  Dtype  \n",
      "---  ------        --------------  -----  \n",
      " 0   name          51609 non-null  object \n",
      " 1   online_order  51609 non-null  object \n",
      " 2   book_table    51609 non-null  object \n",
      " 3   rate          51609 non-null  float64\n",
      " 4   votes         51609 non-null  int64  \n",
      " 5   rest_type     51382 non-null  object \n",
      " 6   cuisines      51564 non-null  object \n",
      " 7   cost2people   51609 non-null  int32  \n",
      " 8   type          51609 non-null  object \n",
      " 9   city          51609 non-null  object \n",
      "dtypes: float64(1), int32(1), int64(1), object(7)\n",
      "memory usage: 4.1+ MB\n"
     ]
    }
   ],
   "source": [
    "rest_data.info()"
   ]
  },
  {
   "cell_type": "markdown",
   "id": "fe9be5c2",
   "metadata": {},
   "source": [
    "### cuisines"
   ]
  },
  {
   "cell_type": "code",
   "execution_count": 39,
   "id": "29bc3f43",
   "metadata": {},
   "outputs": [
    {
     "data": {
      "text/plain": [
       "array(['North Indian, Mughlai, Chinese', 'Chinese, North Indian, Thai',\n",
       "       'Cafe, Mexican, Italian', ...,\n",
       "       'North Indian, Street Food, Biryani', 'Chinese, Mughlai',\n",
       "       'North Indian, Chinese, Arabian, Momos'], dtype=object)"
      ]
     },
     "execution_count": 39,
     "metadata": {},
     "output_type": "execute_result"
    }
   ],
   "source": [
    "rest_data[\"cuisines\"].unique()"
   ]
  },
  {
   "cell_type": "code",
   "execution_count": 40,
   "id": "effe8582",
   "metadata": {},
   "outputs": [
    {
     "data": {
      "text/plain": [
       "North Indian                                  2907\n",
       "North Indian, Chinese                         2381\n",
       "South Indian                                  1826\n",
       "Biryani                                        915\n",
       "Bakery, Desserts                               910\n",
       "                                              ... \n",
       "European, Asian, North Indian                    1\n",
       "North Indian, Continental, Mughlai, Andhra       1\n",
       "Fast Food, Ice Cream, Pizza, Desserts            1\n",
       "Continental, Fast Food, Chinese, Burger          1\n",
       "North Indian, Chinese, Arabian, Momos            1\n",
       "Name: cuisines, Length: 2723, dtype: int64"
      ]
     },
     "execution_count": 40,
     "metadata": {},
     "output_type": "execute_result"
    }
   ],
   "source": [
    "rest_data[\"cuisines\"].value_counts()"
   ]
  },
  {
   "cell_type": "code",
   "execution_count": 41,
   "id": "e75303c7",
   "metadata": {},
   "outputs": [
    {
     "data": {
      "text/plain": [
       "45"
      ]
     },
     "execution_count": 41,
     "metadata": {},
     "output_type": "execute_result"
    }
   ],
   "source": [
    "rest_data[\"cuisines\"].isna().sum()"
   ]
  },
  {
   "cell_type": "code",
   "execution_count": 42,
   "id": "d38d484a",
   "metadata": {},
   "outputs": [
    {
     "data": {
      "text/plain": [
       "North Indian                                  2907\n",
       "North Indian, Chinese                         2381\n",
       "South Indian                                  1826\n",
       "Biryani                                        915\n",
       "Bakery, Desserts                               910\n",
       "                                              ... \n",
       "European, Asian, North Indian                    1\n",
       "North Indian, Continental, Mughlai, Andhra       1\n",
       "Fast Food, Ice Cream, Pizza, Desserts            1\n",
       "Continental, Fast Food, Chinese, Burger          1\n",
       "North Indian, Chinese, Arabian, Momos            1\n",
       "Name: cuisines, Length: 2723, dtype: int64"
      ]
     },
     "execution_count": 42,
     "metadata": {},
     "output_type": "execute_result"
    }
   ],
   "source": [
    "cuisines_data = rest_data[\"cuisines\"].value_counts(ascending= False)\n",
    "cuisines_data"
   ]
  },
  {
   "cell_type": "code",
   "execution_count": 43,
   "id": "87624415",
   "metadata": {},
   "outputs": [
    {
     "data": {
      "text/plain": [
       "North Indian, Continental, Chinese            97\n",
       "Juices                                        94\n",
       "Bengali, North Indian                         93\n",
       "Fast Food, North Indian                       93\n",
       "Tibetan, Momos                                90\n",
       "                                              ..\n",
       "European, Asian, North Indian                  1\n",
       "North Indian, Continental, Mughlai, Andhra     1\n",
       "Fast Food, Ice Cream, Pizza, Desserts          1\n",
       "Continental, Fast Food, Chinese, Burger        1\n",
       "North Indian, Chinese, Arabian, Momos          1\n",
       "Name: cuisines, Length: 2654, dtype: int64"
      ]
     },
     "execution_count": 43,
     "metadata": {},
     "output_type": "execute_result"
    }
   ],
   "source": [
    "cuisines_lessthan100 = cuisines_data[cuisines_data<100]\n",
    "cuisines_lessthan100"
   ]
  },
  {
   "cell_type": "code",
   "execution_count": 44,
   "id": "e627e1b2",
   "metadata": {},
   "outputs": [],
   "source": [
    "def handle_cuisines (value):\n",
    "    if (value in cuisines_lessthan100):\n",
    "        return \"others\"\n",
    "    else :\n",
    "        return value\n",
    "rest_data[\"cuisines\"] = rest_data[\"cuisines\"].apply(handle_cuisines) "
   ]
  },
  {
   "cell_type": "code",
   "execution_count": 45,
   "id": "5add341b",
   "metadata": {},
   "outputs": [],
   "source": [
    "# rest_data[\"cuisines\"] = rest_data[\"cuisines\"].apply(lambda x:\"Others\" if x in less_than_100 else x)"
   ]
  },
  {
   "cell_type": "code",
   "execution_count": 46,
   "id": "f6cdea75",
   "metadata": {},
   "outputs": [
    {
     "data": {
      "text/plain": [
       "others                                 26397\n",
       "North Indian                            2907\n",
       "North Indian, Chinese                   2381\n",
       "South Indian                            1826\n",
       "Biryani                                  915\n",
       "                                       ...  \n",
       "South Indian, Chinese, North Indian      105\n",
       "Italian, Pizza                           105\n",
       "North Indian, Mughlai, Chinese           104\n",
       "South Indian, Fast Food                  104\n",
       "North Indian, Chinese, Seafood           102\n",
       "Name: cuisines, Length: 70, dtype: int64"
      ]
     },
     "execution_count": 46,
     "metadata": {},
     "output_type": "execute_result"
    }
   ],
   "source": [
    "rest_data[\"cuisines\"].value_counts()"
   ]
  },
  {
   "cell_type": "code",
   "execution_count": 47,
   "id": "e8fe67db",
   "metadata": {},
   "outputs": [
    {
     "data": {
      "text/html": [
       "<div>\n",
       "<style scoped>\n",
       "    .dataframe tbody tr th:only-of-type {\n",
       "        vertical-align: middle;\n",
       "    }\n",
       "\n",
       "    .dataframe tbody tr th {\n",
       "        vertical-align: top;\n",
       "    }\n",
       "\n",
       "    .dataframe thead th {\n",
       "        text-align: right;\n",
       "    }\n",
       "</style>\n",
       "<table border=\"1\" class=\"dataframe\">\n",
       "  <thead>\n",
       "    <tr style=\"text-align: right;\">\n",
       "      <th></th>\n",
       "      <th>name</th>\n",
       "      <th>online_order</th>\n",
       "      <th>book_table</th>\n",
       "      <th>rate</th>\n",
       "      <th>votes</th>\n",
       "      <th>rest_type</th>\n",
       "      <th>cuisines</th>\n",
       "      <th>cost2people</th>\n",
       "      <th>type</th>\n",
       "      <th>city</th>\n",
       "    </tr>\n",
       "  </thead>\n",
       "  <tbody>\n",
       "    <tr>\n",
       "      <th>0</th>\n",
       "      <td>Jalsa</td>\n",
       "      <td>Yes</td>\n",
       "      <td>Yes</td>\n",
       "      <td>4.1</td>\n",
       "      <td>775</td>\n",
       "      <td>Casual Dining</td>\n",
       "      <td>North Indian, Mughlai, Chinese</td>\n",
       "      <td>800</td>\n",
       "      <td>Buffet</td>\n",
       "      <td>Banashankari</td>\n",
       "    </tr>\n",
       "    <tr>\n",
       "      <th>1</th>\n",
       "      <td>Spice Elephant</td>\n",
       "      <td>Yes</td>\n",
       "      <td>No</td>\n",
       "      <td>4.1</td>\n",
       "      <td>787</td>\n",
       "      <td>Casual Dining</td>\n",
       "      <td>others</td>\n",
       "      <td>800</td>\n",
       "      <td>Buffet</td>\n",
       "      <td>Banashankari</td>\n",
       "    </tr>\n",
       "    <tr>\n",
       "      <th>2</th>\n",
       "      <td>San Churro Cafe</td>\n",
       "      <td>Yes</td>\n",
       "      <td>No</td>\n",
       "      <td>3.8</td>\n",
       "      <td>918</td>\n",
       "      <td>Cafe, Casual Dining</td>\n",
       "      <td>others</td>\n",
       "      <td>800</td>\n",
       "      <td>Buffet</td>\n",
       "      <td>Banashankari</td>\n",
       "    </tr>\n",
       "    <tr>\n",
       "      <th>3</th>\n",
       "      <td>Addhuri Udupi Bhojana</td>\n",
       "      <td>No</td>\n",
       "      <td>No</td>\n",
       "      <td>3.7</td>\n",
       "      <td>88</td>\n",
       "      <td>Quick Bites</td>\n",
       "      <td>South Indian, North Indian</td>\n",
       "      <td>300</td>\n",
       "      <td>Buffet</td>\n",
       "      <td>Banashankari</td>\n",
       "    </tr>\n",
       "    <tr>\n",
       "      <th>4</th>\n",
       "      <td>Grand Village</td>\n",
       "      <td>No</td>\n",
       "      <td>No</td>\n",
       "      <td>3.8</td>\n",
       "      <td>166</td>\n",
       "      <td>Casual Dining</td>\n",
       "      <td>others</td>\n",
       "      <td>600</td>\n",
       "      <td>Buffet</td>\n",
       "      <td>Banashankari</td>\n",
       "    </tr>\n",
       "    <tr>\n",
       "      <th>5</th>\n",
       "      <td>Timepass Dinner</td>\n",
       "      <td>Yes</td>\n",
       "      <td>No</td>\n",
       "      <td>3.8</td>\n",
       "      <td>286</td>\n",
       "      <td>Casual Dining</td>\n",
       "      <td>North Indian</td>\n",
       "      <td>600</td>\n",
       "      <td>Buffet</td>\n",
       "      <td>Banashankari</td>\n",
       "    </tr>\n",
       "  </tbody>\n",
       "</table>\n",
       "</div>"
      ],
      "text/plain": [
       "                    name online_order book_table  rate  votes  \\\n",
       "0                  Jalsa          Yes        Yes   4.1    775   \n",
       "1         Spice Elephant          Yes         No   4.1    787   \n",
       "2        San Churro Cafe          Yes         No   3.8    918   \n",
       "3  Addhuri Udupi Bhojana           No         No   3.7     88   \n",
       "4          Grand Village           No         No   3.8    166   \n",
       "5        Timepass Dinner          Yes         No   3.8    286   \n",
       "\n",
       "             rest_type                        cuisines  cost2people    type  \\\n",
       "0        Casual Dining  North Indian, Mughlai, Chinese          800  Buffet   \n",
       "1        Casual Dining                          others          800  Buffet   \n",
       "2  Cafe, Casual Dining                          others          800  Buffet   \n",
       "3          Quick Bites      South Indian, North Indian          300  Buffet   \n",
       "4        Casual Dining                          others          600  Buffet   \n",
       "5        Casual Dining                    North Indian          600  Buffet   \n",
       "\n",
       "           city  \n",
       "0  Banashankari  \n",
       "1  Banashankari  \n",
       "2  Banashankari  \n",
       "3  Banashankari  \n",
       "4  Banashankari  \n",
       "5  Banashankari  "
      ]
     },
     "execution_count": 47,
     "metadata": {},
     "output_type": "execute_result"
    }
   ],
   "source": [
    "rest_data.head(6)"
   ]
  },
  {
   "cell_type": "code",
   "execution_count": 48,
   "id": "32ed5e25",
   "metadata": {},
   "outputs": [
    {
     "data": {
      "text/plain": [
       "45"
      ]
     },
     "execution_count": 48,
     "metadata": {},
     "output_type": "execute_result"
    }
   ],
   "source": [
    "rest_data[\"cuisines\"].isna().sum()"
   ]
  },
  {
   "cell_type": "code",
   "execution_count": 49,
   "id": "48ad74f1",
   "metadata": {},
   "outputs": [
    {
     "data": {
      "text/plain": [
       "'others'"
      ]
     },
     "execution_count": 49,
     "metadata": {},
     "output_type": "execute_result"
    }
   ],
   "source": [
    "rest_data[\"cuisines\"].mode()[0]"
   ]
  },
  {
   "cell_type": "code",
   "execution_count": 50,
   "id": "e6cc94ea",
   "metadata": {},
   "outputs": [
    {
     "data": {
      "text/plain": [
       "0        North Indian, Mughlai, Chinese\n",
       "1                                others\n",
       "2                                others\n",
       "3            South Indian, North Indian\n",
       "4                                others\n",
       "                      ...              \n",
       "51712                       Continental\n",
       "51713                       Finger Food\n",
       "51714                       Finger Food\n",
       "51715                       Finger Food\n",
       "51716                            others\n",
       "Name: cuisines, Length: 51609, dtype: object"
      ]
     },
     "execution_count": 50,
     "metadata": {},
     "output_type": "execute_result"
    }
   ],
   "source": [
    "rest_data[\"cuisines\"] = rest_data[\"cuisines\"].fillna(method=\"bfill\")\n",
    "rest_data[\"cuisines\"]"
   ]
  },
  {
   "cell_type": "code",
   "execution_count": 51,
   "id": "bce0497e",
   "metadata": {},
   "outputs": [
    {
     "data": {
      "text/plain": [
       "0"
      ]
     },
     "execution_count": 51,
     "metadata": {},
     "output_type": "execute_result"
    }
   ],
   "source": [
    "rest_data[\"cuisines\"].isna().sum()"
   ]
  },
  {
   "cell_type": "markdown",
   "id": "7f8c1849",
   "metadata": {},
   "source": [
    "### rest_type"
   ]
  },
  {
   "cell_type": "code",
   "execution_count": 52,
   "id": "132391fb",
   "metadata": {},
   "outputs": [
    {
     "data": {
      "text/plain": [
       "array(['Casual Dining', 'Cafe, Casual Dining', 'Quick Bites',\n",
       "       'Casual Dining, Cafe', 'Cafe', 'Quick Bites, Cafe',\n",
       "       'Cafe, Quick Bites', 'Delivery', 'Mess', 'Dessert Parlor',\n",
       "       'Bakery, Dessert Parlor', 'Pub', 'Bakery', 'Takeaway, Delivery',\n",
       "       'Fine Dining', 'Beverage Shop', 'Sweet Shop', 'Bar',\n",
       "       'Beverage Shop, Quick Bites', 'Confectionery',\n",
       "       'Quick Bites, Beverage Shop', 'Dessert Parlor, Sweet Shop',\n",
       "       'Bakery, Quick Bites', 'Sweet Shop, Quick Bites', 'Kiosk',\n",
       "       'Food Truck', 'Quick Bites, Dessert Parlor',\n",
       "       'Beverage Shop, Dessert Parlor', 'Takeaway', 'Pub, Casual Dining',\n",
       "       'Casual Dining, Bar', 'Dessert Parlor, Beverage Shop',\n",
       "       'Quick Bites, Bakery', 'Dessert Parlor, Quick Bites',\n",
       "       'Microbrewery, Casual Dining', 'Lounge', 'Bar, Casual Dining',\n",
       "       'Food Court', 'Cafe, Bakery', nan, 'Dhaba',\n",
       "       'Quick Bites, Sweet Shop', 'Microbrewery',\n",
       "       'Food Court, Quick Bites', 'Pub, Bar', 'Casual Dining, Pub',\n",
       "       'Lounge, Bar', 'Food Court, Dessert Parlor',\n",
       "       'Casual Dining, Sweet Shop', 'Food Court, Casual Dining',\n",
       "       'Casual Dining, Microbrewery', 'Sweet Shop, Dessert Parlor',\n",
       "       'Bakery, Beverage Shop', 'Lounge, Casual Dining',\n",
       "       'Cafe, Food Court', 'Beverage Shop, Cafe', 'Cafe, Dessert Parlor',\n",
       "       'Dessert Parlor, Cafe', 'Dessert Parlor, Bakery',\n",
       "       'Microbrewery, Pub', 'Bakery, Food Court', 'Club',\n",
       "       'Quick Bites, Food Court', 'Bakery, Cafe', 'Bar, Cafe',\n",
       "       'Pub, Cafe', 'Casual Dining, Irani Cafee', 'Fine Dining, Lounge',\n",
       "       'Bar, Quick Bites', 'Bakery, Kiosk', 'Pub, Microbrewery',\n",
       "       'Microbrewery, Lounge', 'Fine Dining, Microbrewery',\n",
       "       'Fine Dining, Bar', 'Mess, Quick Bites', 'Dessert Parlor, Kiosk',\n",
       "       'Bhojanalya', 'Casual Dining, Quick Bites', 'Pop Up', 'Cafe, Bar',\n",
       "       'Casual Dining, Lounge', 'Bakery, Sweet Shop', 'Microbrewery, Bar',\n",
       "       'Cafe, Lounge', 'Bar, Pub', 'Lounge, Cafe', 'Club, Casual Dining',\n",
       "       'Quick Bites, Mess', 'Quick Bites, Meat Shop',\n",
       "       'Quick Bites, Kiosk', 'Lounge, Microbrewery',\n",
       "       'Food Court, Beverage Shop', 'Dessert Parlor, Food Court',\n",
       "       'Bar, Lounge'], dtype=object)"
      ]
     },
     "execution_count": 52,
     "metadata": {},
     "output_type": "execute_result"
    }
   ],
   "source": [
    "rest_data[\"rest_type\"].unique()"
   ]
  },
  {
   "cell_type": "code",
   "execution_count": 53,
   "id": "ff79fd00",
   "metadata": {},
   "outputs": [
    {
     "data": {
      "text/plain": [
       "227"
      ]
     },
     "execution_count": 53,
     "metadata": {},
     "output_type": "execute_result"
    }
   ],
   "source": [
    "rest_data[\"rest_type\"].isna().sum()"
   ]
  },
  {
   "cell_type": "code",
   "execution_count": 54,
   "id": "afee2ba0",
   "metadata": {},
   "outputs": [
    {
     "data": {
      "text/plain": [
       "Quick Bites                   19096\n",
       "Casual Dining                 10309\n",
       "Cafe                           3727\n",
       "Delivery                       2600\n",
       "Dessert Parlor                 2260\n",
       "                              ...  \n",
       "Dessert Parlor, Kiosk             2\n",
       "Food Court, Beverage Shop         2\n",
       "Dessert Parlor, Food Court        2\n",
       "Sweet Shop, Dessert Parlor        1\n",
       "Quick Bites, Kiosk                1\n",
       "Name: rest_type, Length: 93, dtype: int64"
      ]
     },
     "execution_count": 54,
     "metadata": {},
     "output_type": "execute_result"
    }
   ],
   "source": [
    "rest_data[\"rest_type\"].value_counts()"
   ]
  },
  {
   "cell_type": "code",
   "execution_count": 55,
   "id": "011de455",
   "metadata": {},
   "outputs": [
    {
     "data": {
      "text/plain": [
       "Quick Bites                   19096\n",
       "Casual Dining                 10309\n",
       "Cafe                           3727\n",
       "Delivery                       2600\n",
       "Dessert Parlor                 2260\n",
       "                              ...  \n",
       "Dessert Parlor, Kiosk             2\n",
       "Food Court, Beverage Shop         2\n",
       "Dessert Parlor, Food Court        2\n",
       "Sweet Shop, Dessert Parlor        1\n",
       "Quick Bites, Kiosk                1\n",
       "Name: rest_type, Length: 93, dtype: int64"
      ]
     },
     "execution_count": 55,
     "metadata": {},
     "output_type": "execute_result"
    }
   ],
   "source": [
    "df = rest_data[\"rest_type\"].value_counts(ascending= False)\n",
    "df"
   ]
  },
  {
   "cell_type": "code",
   "execution_count": 56,
   "id": "96b45da9",
   "metadata": {},
   "outputs": [
    {
     "data": {
      "text/plain": [
       "Beverage Shop                 865\n",
       "Bar                           697\n",
       "Food Court                    621\n",
       "Sweet Shop                    468\n",
       "Bar, Casual Dining            420\n",
       "                             ... \n",
       "Dessert Parlor, Kiosk           2\n",
       "Food Court, Beverage Shop       2\n",
       "Dessert Parlor, Food Court      2\n",
       "Sweet Shop, Dessert Parlor      1\n",
       "Quick Bites, Kiosk              1\n",
       "Name: rest_type, Length: 85, dtype: int64"
      ]
     },
     "execution_count": 56,
     "metadata": {},
     "output_type": "execute_result"
    }
   ],
   "source": [
    "rest_data_lessthan1000 = df[df < 1000]\n",
    "rest_data_lessthan1000"
   ]
  },
  {
   "cell_type": "code",
   "execution_count": 57,
   "id": "946152ef",
   "metadata": {},
   "outputs": [
    {
     "data": {
      "text/plain": [
       "Quick Bites           19096\n",
       "Casual Dining         10309\n",
       "other                  9071\n",
       "Cafe                   3727\n",
       "Delivery               2600\n",
       "Dessert Parlor         2260\n",
       "Takeaway, Delivery     2031\n",
       "Casual Dining, Bar     1148\n",
       "Bakery                 1140\n",
       "Name: rest_type, dtype: int64"
      ]
     },
     "execution_count": 57,
     "metadata": {},
     "output_type": "execute_result"
    }
   ],
   "source": [
    "def handle_rest_type(value):\n",
    "    if (value in rest_data_lessthan1000):\n",
    "        return \"other\"\n",
    "    else:\n",
    "        return value\n",
    "rest_data[\"rest_type\"] = rest_data[\"rest_type\"].apply(handle_rest_type)\n",
    "rest_data[\"rest_type\"].value_counts()"
   ]
  },
  {
   "cell_type": "code",
   "execution_count": 58,
   "id": "a24d0bc1",
   "metadata": {},
   "outputs": [
    {
     "data": {
      "text/plain": [
       "227"
      ]
     },
     "execution_count": 58,
     "metadata": {},
     "output_type": "execute_result"
    }
   ],
   "source": [
    "rest_data[\"rest_type\"].isna().sum()"
   ]
  },
  {
   "cell_type": "code",
   "execution_count": 59,
   "id": "10d84731",
   "metadata": {},
   "outputs": [
    {
     "data": {
      "text/plain": [
       "'Quick Bites'"
      ]
     },
     "execution_count": 59,
     "metadata": {},
     "output_type": "execute_result"
    }
   ],
   "source": [
    "rest_data[\"rest_type\"].mode()[0]"
   ]
  },
  {
   "cell_type": "code",
   "execution_count": 60,
   "id": "8dd39ba8",
   "metadata": {},
   "outputs": [
    {
     "data": {
      "text/plain": [
       "0        Casual Dining\n",
       "1        Casual Dining\n",
       "2                other\n",
       "3          Quick Bites\n",
       "4        Casual Dining\n",
       "             ...      \n",
       "51712            other\n",
       "51713            other\n",
       "51714            other\n",
       "51715            other\n",
       "51716            other\n",
       "Name: rest_type, Length: 51609, dtype: object"
      ]
     },
     "execution_count": 60,
     "metadata": {},
     "output_type": "execute_result"
    }
   ],
   "source": [
    "rest_data[\"rest_type\"] = rest_data[\"rest_type\"].fillna(method=\"ffill\")\n",
    "rest_data[\"rest_type\"]"
   ]
  },
  {
   "cell_type": "code",
   "execution_count": 61,
   "id": "3bfff93b",
   "metadata": {},
   "outputs": [
    {
     "data": {
      "text/plain": [
       "0"
      ]
     },
     "execution_count": 61,
     "metadata": {},
     "output_type": "execute_result"
    }
   ],
   "source": [
    "rest_data[\"rest_type\"].isna().sum()"
   ]
  },
  {
   "cell_type": "code",
   "execution_count": 62,
   "id": "2858ff54",
   "metadata": {
    "scrolled": true
   },
   "outputs": [
    {
     "name": "stdout",
     "output_type": "stream",
     "text": [
      "<class 'pandas.core.frame.DataFrame'>\n",
      "Int64Index: 51609 entries, 0 to 51716\n",
      "Data columns (total 10 columns):\n",
      " #   Column        Non-Null Count  Dtype  \n",
      "---  ------        --------------  -----  \n",
      " 0   name          51609 non-null  object \n",
      " 1   online_order  51609 non-null  object \n",
      " 2   book_table    51609 non-null  object \n",
      " 3   rate          51609 non-null  float64\n",
      " 4   votes         51609 non-null  int64  \n",
      " 5   rest_type     51609 non-null  object \n",
      " 6   cuisines      51609 non-null  object \n",
      " 7   cost2people   51609 non-null  int32  \n",
      " 8   type          51609 non-null  object \n",
      " 9   city          51609 non-null  object \n",
      "dtypes: float64(1), int32(1), int64(1), object(7)\n",
      "memory usage: 4.1+ MB\n"
     ]
    }
   ],
   "source": [
    "rest_data.info()"
   ]
  },
  {
   "cell_type": "markdown",
   "id": "ec3f2298",
   "metadata": {},
   "source": [
    "### replace \"online_order\" and \"book_table\" to binary form"
   ]
  },
  {
   "cell_type": "code",
   "execution_count": 63,
   "id": "810539ca",
   "metadata": {},
   "outputs": [
    {
     "data": {
      "text/plain": [
       "0        1\n",
       "1        1\n",
       "2        1\n",
       "3        0\n",
       "4        0\n",
       "        ..\n",
       "51712    0\n",
       "51713    0\n",
       "51714    0\n",
       "51715    0\n",
       "51716    0\n",
       "Name: online_order, Length: 51609, dtype: int64"
      ]
     },
     "execution_count": 63,
     "metadata": {},
     "output_type": "execute_result"
    }
   ],
   "source": [
    "rest_data['online_order'] = rest_data['online_order'].map(dict(Yes=1, No=0))\n",
    "rest_data['online_order']"
   ]
  },
  {
   "cell_type": "code",
   "execution_count": 64,
   "id": "9766d2cd",
   "metadata": {},
   "outputs": [
    {
     "data": {
      "text/plain": [
       "0        1\n",
       "1        0\n",
       "2        0\n",
       "3        0\n",
       "4        0\n",
       "        ..\n",
       "51712    0\n",
       "51713    0\n",
       "51714    0\n",
       "51715    1\n",
       "51716    0\n",
       "Name: book_table, Length: 51609, dtype: int64"
      ]
     },
     "execution_count": 64,
     "metadata": {},
     "output_type": "execute_result"
    }
   ],
   "source": [
    "rest_data['book_table'] = rest_data['book_table'].map(dict(Yes=1, No=0))\n",
    "rest_data['book_table']"
   ]
  },
  {
   "cell_type": "code",
   "execution_count": 65,
   "id": "05dcd707",
   "metadata": {},
   "outputs": [
    {
     "data": {
      "text/html": [
       "<div>\n",
       "<style scoped>\n",
       "    .dataframe tbody tr th:only-of-type {\n",
       "        vertical-align: middle;\n",
       "    }\n",
       "\n",
       "    .dataframe tbody tr th {\n",
       "        vertical-align: top;\n",
       "    }\n",
       "\n",
       "    .dataframe thead th {\n",
       "        text-align: right;\n",
       "    }\n",
       "</style>\n",
       "<table border=\"1\" class=\"dataframe\">\n",
       "  <thead>\n",
       "    <tr style=\"text-align: right;\">\n",
       "      <th></th>\n",
       "      <th>name</th>\n",
       "      <th>online_order</th>\n",
       "      <th>book_table</th>\n",
       "      <th>rate</th>\n",
       "      <th>votes</th>\n",
       "      <th>rest_type</th>\n",
       "      <th>cuisines</th>\n",
       "      <th>cost2people</th>\n",
       "      <th>type</th>\n",
       "      <th>city</th>\n",
       "    </tr>\n",
       "  </thead>\n",
       "  <tbody>\n",
       "    <tr>\n",
       "      <th>0</th>\n",
       "      <td>Jalsa</td>\n",
       "      <td>1</td>\n",
       "      <td>1</td>\n",
       "      <td>4.1</td>\n",
       "      <td>775</td>\n",
       "      <td>Casual Dining</td>\n",
       "      <td>North Indian, Mughlai, Chinese</td>\n",
       "      <td>800</td>\n",
       "      <td>Buffet</td>\n",
       "      <td>Banashankari</td>\n",
       "    </tr>\n",
       "    <tr>\n",
       "      <th>1</th>\n",
       "      <td>Spice Elephant</td>\n",
       "      <td>1</td>\n",
       "      <td>0</td>\n",
       "      <td>4.1</td>\n",
       "      <td>787</td>\n",
       "      <td>Casual Dining</td>\n",
       "      <td>others</td>\n",
       "      <td>800</td>\n",
       "      <td>Buffet</td>\n",
       "      <td>Banashankari</td>\n",
       "    </tr>\n",
       "    <tr>\n",
       "      <th>2</th>\n",
       "      <td>San Churro Cafe</td>\n",
       "      <td>1</td>\n",
       "      <td>0</td>\n",
       "      <td>3.8</td>\n",
       "      <td>918</td>\n",
       "      <td>other</td>\n",
       "      <td>others</td>\n",
       "      <td>800</td>\n",
       "      <td>Buffet</td>\n",
       "      <td>Banashankari</td>\n",
       "    </tr>\n",
       "    <tr>\n",
       "      <th>3</th>\n",
       "      <td>Addhuri Udupi Bhojana</td>\n",
       "      <td>0</td>\n",
       "      <td>0</td>\n",
       "      <td>3.7</td>\n",
       "      <td>88</td>\n",
       "      <td>Quick Bites</td>\n",
       "      <td>South Indian, North Indian</td>\n",
       "      <td>300</td>\n",
       "      <td>Buffet</td>\n",
       "      <td>Banashankari</td>\n",
       "    </tr>\n",
       "    <tr>\n",
       "      <th>4</th>\n",
       "      <td>Grand Village</td>\n",
       "      <td>0</td>\n",
       "      <td>0</td>\n",
       "      <td>3.8</td>\n",
       "      <td>166</td>\n",
       "      <td>Casual Dining</td>\n",
       "      <td>others</td>\n",
       "      <td>600</td>\n",
       "      <td>Buffet</td>\n",
       "      <td>Banashankari</td>\n",
       "    </tr>\n",
       "    <tr>\n",
       "      <th>5</th>\n",
       "      <td>Timepass Dinner</td>\n",
       "      <td>1</td>\n",
       "      <td>0</td>\n",
       "      <td>3.8</td>\n",
       "      <td>286</td>\n",
       "      <td>Casual Dining</td>\n",
       "      <td>North Indian</td>\n",
       "      <td>600</td>\n",
       "      <td>Buffet</td>\n",
       "      <td>Banashankari</td>\n",
       "    </tr>\n",
       "  </tbody>\n",
       "</table>\n",
       "</div>"
      ],
      "text/plain": [
       "                    name  online_order  book_table  rate  votes  \\\n",
       "0                  Jalsa             1           1   4.1    775   \n",
       "1         Spice Elephant             1           0   4.1    787   \n",
       "2        San Churro Cafe             1           0   3.8    918   \n",
       "3  Addhuri Udupi Bhojana             0           0   3.7     88   \n",
       "4          Grand Village             0           0   3.8    166   \n",
       "5        Timepass Dinner             1           0   3.8    286   \n",
       "\n",
       "       rest_type                        cuisines  cost2people    type  \\\n",
       "0  Casual Dining  North Indian, Mughlai, Chinese          800  Buffet   \n",
       "1  Casual Dining                          others          800  Buffet   \n",
       "2          other                          others          800  Buffet   \n",
       "3    Quick Bites      South Indian, North Indian          300  Buffet   \n",
       "4  Casual Dining                          others          600  Buffet   \n",
       "5  Casual Dining                    North Indian          600  Buffet   \n",
       "\n",
       "           city  \n",
       "0  Banashankari  \n",
       "1  Banashankari  \n",
       "2  Banashankari  \n",
       "3  Banashankari  \n",
       "4  Banashankari  \n",
       "5  Banashankari  "
      ]
     },
     "execution_count": 65,
     "metadata": {},
     "output_type": "execute_result"
    }
   ],
   "source": [
    "rest_data.head(6)"
   ]
  },
  {
   "cell_type": "code",
   "execution_count": 66,
   "id": "917e7558",
   "metadata": {},
   "outputs": [
    {
     "data": {
      "text/plain": [
       "array([1, 0], dtype=int64)"
      ]
     },
     "execution_count": 66,
     "metadata": {},
     "output_type": "execute_result"
    }
   ],
   "source": [
    "rest_data[\"book_table\"].unique()"
   ]
  },
  {
   "cell_type": "code",
   "execution_count": 67,
   "id": "1bf370ba",
   "metadata": {},
   "outputs": [
    {
     "data": {
      "text/plain": [
       "array([1, 0], dtype=int64)"
      ]
     },
     "execution_count": 67,
     "metadata": {},
     "output_type": "execute_result"
    }
   ],
   "source": [
    "rest_data[\"online_order\"].unique()"
   ]
  },
  {
   "cell_type": "code",
   "execution_count": 68,
   "id": "b37b218a",
   "metadata": {},
   "outputs": [
    {
     "name": "stdout",
     "output_type": "stream",
     "text": [
      "<class 'pandas.core.frame.DataFrame'>\n",
      "Int64Index: 51609 entries, 0 to 51716\n",
      "Data columns (total 10 columns):\n",
      " #   Column        Non-Null Count  Dtype  \n",
      "---  ------        --------------  -----  \n",
      " 0   name          51609 non-null  object \n",
      " 1   online_order  51609 non-null  int64  \n",
      " 2   book_table    51609 non-null  int64  \n",
      " 3   rate          51609 non-null  float64\n",
      " 4   votes         51609 non-null  int64  \n",
      " 5   rest_type     51609 non-null  object \n",
      " 6   cuisines      51609 non-null  object \n",
      " 7   cost2people   51609 non-null  int32  \n",
      " 8   type          51609 non-null  object \n",
      " 9   city          51609 non-null  object \n",
      "dtypes: float64(1), int32(1), int64(3), object(5)\n",
      "memory usage: 4.1+ MB\n"
     ]
    }
   ],
   "source": [
    "rest_data.info()"
   ]
  },
  {
   "cell_type": "markdown",
   "id": "5bf4b29e",
   "metadata": {},
   "source": [
    "### label encoding (Data Transformation)"
   ]
  },
  {
   "cell_type": "code",
   "execution_count": 69,
   "id": "9d04a650",
   "metadata": {},
   "outputs": [],
   "source": [
    "rest_data.rest_type = le.fit_transform(rest_data.rest_type)\n",
    "rest_data.cuisines = le.fit_transform(rest_data.cuisines)\n",
    "rest_data.type = le.fit_transform(rest_data.type)\n",
    "rest_data.city = le.fit_transform(rest_data.city)"
   ]
  },
  {
   "cell_type": "code",
   "execution_count": 70,
   "id": "724162ab",
   "metadata": {},
   "outputs": [
    {
     "data": {
      "text/html": [
       "<div>\n",
       "<style scoped>\n",
       "    .dataframe tbody tr th:only-of-type {\n",
       "        vertical-align: middle;\n",
       "    }\n",
       "\n",
       "    .dataframe tbody tr th {\n",
       "        vertical-align: top;\n",
       "    }\n",
       "\n",
       "    .dataframe thead th {\n",
       "        text-align: right;\n",
       "    }\n",
       "</style>\n",
       "<table border=\"1\" class=\"dataframe\">\n",
       "  <thead>\n",
       "    <tr style=\"text-align: right;\">\n",
       "      <th></th>\n",
       "      <th>name</th>\n",
       "      <th>online_order</th>\n",
       "      <th>book_table</th>\n",
       "      <th>rate</th>\n",
       "      <th>votes</th>\n",
       "      <th>rest_type</th>\n",
       "      <th>cuisines</th>\n",
       "      <th>cost2people</th>\n",
       "      <th>type</th>\n",
       "      <th>city</th>\n",
       "    </tr>\n",
       "  </thead>\n",
       "  <tbody>\n",
       "    <tr>\n",
       "      <th>0</th>\n",
       "      <td>Jalsa</td>\n",
       "      <td>1</td>\n",
       "      <td>1</td>\n",
       "      <td>4.1</td>\n",
       "      <td>775</td>\n",
       "      <td>2</td>\n",
       "      <td>54</td>\n",
       "      <td>800</td>\n",
       "      <td>0</td>\n",
       "      <td>1</td>\n",
       "    </tr>\n",
       "    <tr>\n",
       "      <th>1</th>\n",
       "      <td>Spice Elephant</td>\n",
       "      <td>1</td>\n",
       "      <td>0</td>\n",
       "      <td>4.1</td>\n",
       "      <td>787</td>\n",
       "      <td>2</td>\n",
       "      <td>69</td>\n",
       "      <td>800</td>\n",
       "      <td>0</td>\n",
       "      <td>1</td>\n",
       "    </tr>\n",
       "    <tr>\n",
       "      <th>2</th>\n",
       "      <td>San Churro Cafe</td>\n",
       "      <td>1</td>\n",
       "      <td>0</td>\n",
       "      <td>3.8</td>\n",
       "      <td>918</td>\n",
       "      <td>8</td>\n",
       "      <td>69</td>\n",
       "      <td>800</td>\n",
       "      <td>0</td>\n",
       "      <td>1</td>\n",
       "    </tr>\n",
       "    <tr>\n",
       "      <th>3</th>\n",
       "      <td>Addhuri Udupi Bhojana</td>\n",
       "      <td>0</td>\n",
       "      <td>0</td>\n",
       "      <td>3.7</td>\n",
       "      <td>88</td>\n",
       "      <td>6</td>\n",
       "      <td>65</td>\n",
       "      <td>300</td>\n",
       "      <td>0</td>\n",
       "      <td>1</td>\n",
       "    </tr>\n",
       "    <tr>\n",
       "      <th>4</th>\n",
       "      <td>Grand Village</td>\n",
       "      <td>0</td>\n",
       "      <td>0</td>\n",
       "      <td>3.8</td>\n",
       "      <td>166</td>\n",
       "      <td>2</td>\n",
       "      <td>69</td>\n",
       "      <td>600</td>\n",
       "      <td>0</td>\n",
       "      <td>1</td>\n",
       "    </tr>\n",
       "  </tbody>\n",
       "</table>\n",
       "</div>"
      ],
      "text/plain": [
       "                    name  online_order  book_table  rate  votes  rest_type  \\\n",
       "0                  Jalsa             1           1   4.1    775          2   \n",
       "1         Spice Elephant             1           0   4.1    787          2   \n",
       "2        San Churro Cafe             1           0   3.8    918          8   \n",
       "3  Addhuri Udupi Bhojana             0           0   3.7     88          6   \n",
       "4          Grand Village             0           0   3.8    166          2   \n",
       "\n",
       "   cuisines  cost2people  type  city  \n",
       "0        54          800     0     1  \n",
       "1        69          800     0     1  \n",
       "2        69          800     0     1  \n",
       "3        65          300     0     1  \n",
       "4        69          600     0     1  "
      ]
     },
     "execution_count": 70,
     "metadata": {},
     "output_type": "execute_result"
    }
   ],
   "source": [
    "rest_data.head()"
   ]
  },
  {
   "cell_type": "code",
   "execution_count": 71,
   "id": "1de2d8f9",
   "metadata": {},
   "outputs": [
    {
     "data": {
      "text/html": [
       "<div>\n",
       "<style scoped>\n",
       "    .dataframe tbody tr th:only-of-type {\n",
       "        vertical-align: middle;\n",
       "    }\n",
       "\n",
       "    .dataframe tbody tr th {\n",
       "        vertical-align: top;\n",
       "    }\n",
       "\n",
       "    .dataframe thead th {\n",
       "        text-align: right;\n",
       "    }\n",
       "</style>\n",
       "<table border=\"1\" class=\"dataframe\">\n",
       "  <thead>\n",
       "    <tr style=\"text-align: right;\">\n",
       "      <th></th>\n",
       "      <th>online_order</th>\n",
       "      <th>book_table</th>\n",
       "      <th>rate</th>\n",
       "      <th>votes</th>\n",
       "      <th>rest_type</th>\n",
       "      <th>cuisines</th>\n",
       "      <th>cost2people</th>\n",
       "      <th>type</th>\n",
       "      <th>city</th>\n",
       "    </tr>\n",
       "  </thead>\n",
       "  <tbody>\n",
       "    <tr>\n",
       "      <th>0</th>\n",
       "      <td>1</td>\n",
       "      <td>1</td>\n",
       "      <td>4.1</td>\n",
       "      <td>775</td>\n",
       "      <td>2</td>\n",
       "      <td>54</td>\n",
       "      <td>800</td>\n",
       "      <td>0</td>\n",
       "      <td>1</td>\n",
       "    </tr>\n",
       "    <tr>\n",
       "      <th>1</th>\n",
       "      <td>1</td>\n",
       "      <td>0</td>\n",
       "      <td>4.1</td>\n",
       "      <td>787</td>\n",
       "      <td>2</td>\n",
       "      <td>69</td>\n",
       "      <td>800</td>\n",
       "      <td>0</td>\n",
       "      <td>1</td>\n",
       "    </tr>\n",
       "    <tr>\n",
       "      <th>2</th>\n",
       "      <td>1</td>\n",
       "      <td>0</td>\n",
       "      <td>3.8</td>\n",
       "      <td>918</td>\n",
       "      <td>8</td>\n",
       "      <td>69</td>\n",
       "      <td>800</td>\n",
       "      <td>0</td>\n",
       "      <td>1</td>\n",
       "    </tr>\n",
       "    <tr>\n",
       "      <th>3</th>\n",
       "      <td>0</td>\n",
       "      <td>0</td>\n",
       "      <td>3.7</td>\n",
       "      <td>88</td>\n",
       "      <td>6</td>\n",
       "      <td>65</td>\n",
       "      <td>300</td>\n",
       "      <td>0</td>\n",
       "      <td>1</td>\n",
       "    </tr>\n",
       "    <tr>\n",
       "      <th>4</th>\n",
       "      <td>0</td>\n",
       "      <td>0</td>\n",
       "      <td>3.8</td>\n",
       "      <td>166</td>\n",
       "      <td>2</td>\n",
       "      <td>69</td>\n",
       "      <td>600</td>\n",
       "      <td>0</td>\n",
       "      <td>1</td>\n",
       "    </tr>\n",
       "  </tbody>\n",
       "</table>\n",
       "</div>"
      ],
      "text/plain": [
       "   online_order  book_table  rate  votes  rest_type  cuisines  cost2people  \\\n",
       "0             1           1   4.1    775          2        54          800   \n",
       "1             1           0   4.1    787          2        69          800   \n",
       "2             1           0   3.8    918          8        69          800   \n",
       "3             0           0   3.7     88          6        65          300   \n",
       "4             0           0   3.8    166          2        69          600   \n",
       "\n",
       "   type  city  \n",
       "0     0     1  \n",
       "1     0     1  \n",
       "2     0     1  \n",
       "3     0     1  \n",
       "4     0     1  "
      ]
     },
     "execution_count": 71,
     "metadata": {},
     "output_type": "execute_result"
    }
   ],
   "source": [
    "# drop coloumn \"name\" in dataset\n",
    "\n",
    "rest_data = rest_data.drop([\"name\"], axis= True)\n",
    "rest_data.head()"
   ]
  },
  {
   "cell_type": "markdown",
   "id": "7998226c",
   "metadata": {},
   "source": [
    "### handle outliers in \"votes\" column"
   ]
  },
  {
   "cell_type": "code",
   "execution_count": 72,
   "id": "86f8e037",
   "metadata": {},
   "outputs": [
    {
     "data": {
      "text/plain": [
       "<AxesSubplot:xlabel='votes'>"
      ]
     },
     "execution_count": 72,
     "metadata": {},
     "output_type": "execute_result"
    },
    {
     "data": {
      "image/png": "[encoded data removed]",
      "text/plain": [
       "<Figure size 432x288 with 1 Axes>"
      ]
     },
     "metadata": {
      "needs_background": "light"
     },
     "output_type": "display_data"
    }
   ],
   "source": [
    "#  outlies check in column \"votes\"\n",
    "\n",
    "sns.boxplot(rest_data['votes'])"
   ]
  },
  {
   "cell_type": "code",
   "execution_count": 73,
   "id": "c520aedb",
   "metadata": {},
   "outputs": [
    {
     "name": "stdout",
     "output_type": "stream",
     "text": [
      "IQR  ::  191.0\n",
      "uppertail value >> 484.5\n",
      "lowertail value >> -279.5\n"
     ]
    }
   ],
   "source": [
    "# IQR Method for column \"votes\"\n",
    "\n",
    "q1 = rest_data[\"votes\"].quantile(0.25)\n",
    "q2 = rest_data[\"votes\"].quantile(0.50)\n",
    "q3 = rest_data[\"votes\"].quantile(0.75)\n",
    "\n",
    "IQR = q3-q1\n",
    "print (\"IQR  :: \",IQR)\n",
    "\n",
    "uppertail =q3 + (1.5*IQR)\n",
    "lowertail =q1 - (1.5*IQR)\n",
    "\n",
    "print (\"uppertail value >>\" ,uppertail)\n",
    "print (\"lowertail value >>\" ,lowertail)"
   ]
  },
  {
   "cell_type": "code",
   "execution_count": 74,
   "id": "6061e3ef",
   "metadata": {},
   "outputs": [
    {
     "data": {
      "text/html": [
       "<div>\n",
       "<style scoped>\n",
       "    .dataframe tbody tr th:only-of-type {\n",
       "        vertical-align: middle;\n",
       "    }\n",
       "\n",
       "    .dataframe tbody tr th {\n",
       "        vertical-align: top;\n",
       "    }\n",
       "\n",
       "    .dataframe thead th {\n",
       "        text-align: right;\n",
       "    }\n",
       "</style>\n",
       "<table border=\"1\" class=\"dataframe\">\n",
       "  <thead>\n",
       "    <tr style=\"text-align: right;\">\n",
       "      <th></th>\n",
       "      <th>online_order</th>\n",
       "      <th>book_table</th>\n",
       "      <th>rate</th>\n",
       "      <th>votes</th>\n",
       "      <th>rest_type</th>\n",
       "      <th>cuisines</th>\n",
       "      <th>cost2people</th>\n",
       "      <th>type</th>\n",
       "      <th>city</th>\n",
       "    </tr>\n",
       "  </thead>\n",
       "  <tbody>\n",
       "    <tr>\n",
       "      <th>0</th>\n",
       "      <td>1</td>\n",
       "      <td>1</td>\n",
       "      <td>4.1</td>\n",
       "      <td>775</td>\n",
       "      <td>2</td>\n",
       "      <td>54</td>\n",
       "      <td>800</td>\n",
       "      <td>0</td>\n",
       "      <td>1</td>\n",
       "    </tr>\n",
       "    <tr>\n",
       "      <th>1</th>\n",
       "      <td>1</td>\n",
       "      <td>0</td>\n",
       "      <td>4.1</td>\n",
       "      <td>787</td>\n",
       "      <td>2</td>\n",
       "      <td>69</td>\n",
       "      <td>800</td>\n",
       "      <td>0</td>\n",
       "      <td>1</td>\n",
       "    </tr>\n",
       "    <tr>\n",
       "      <th>2</th>\n",
       "      <td>1</td>\n",
       "      <td>0</td>\n",
       "      <td>3.8</td>\n",
       "      <td>918</td>\n",
       "      <td>8</td>\n",
       "      <td>69</td>\n",
       "      <td>800</td>\n",
       "      <td>0</td>\n",
       "      <td>1</td>\n",
       "    </tr>\n",
       "    <tr>\n",
       "      <th>7</th>\n",
       "      <td>1</td>\n",
       "      <td>1</td>\n",
       "      <td>4.6</td>\n",
       "      <td>2556</td>\n",
       "      <td>8</td>\n",
       "      <td>69</td>\n",
       "      <td>600</td>\n",
       "      <td>1</td>\n",
       "      <td>1</td>\n",
       "    </tr>\n",
       "    <tr>\n",
       "      <th>9</th>\n",
       "      <td>1</td>\n",
       "      <td>0</td>\n",
       "      <td>4.2</td>\n",
       "      <td>504</td>\n",
       "      <td>1</td>\n",
       "      <td>69</td>\n",
       "      <td>550</td>\n",
       "      <td>1</td>\n",
       "      <td>1</td>\n",
       "    </tr>\n",
       "    <tr>\n",
       "      <th>...</th>\n",
       "      <td>...</td>\n",
       "      <td>...</td>\n",
       "      <td>...</td>\n",
       "      <td>...</td>\n",
       "      <td>...</td>\n",
       "      <td>...</td>\n",
       "      <td>...</td>\n",
       "      <td>...</td>\n",
       "      <td>...</td>\n",
       "    </tr>\n",
       "    <tr>\n",
       "      <th>51699</th>\n",
       "      <td>1</td>\n",
       "      <td>1</td>\n",
       "      <td>4.1</td>\n",
       "      <td>1218</td>\n",
       "      <td>8</td>\n",
       "      <td>69</td>\n",
       "      <td>1200</td>\n",
       "      <td>6</td>\n",
       "      <td>29</td>\n",
       "    </tr>\n",
       "    <tr>\n",
       "      <th>51700</th>\n",
       "      <td>0</td>\n",
       "      <td>1</td>\n",
       "      <td>4.1</td>\n",
       "      <td>1003</td>\n",
       "      <td>8</td>\n",
       "      <td>69</td>\n",
       "      <td>1500</td>\n",
       "      <td>6</td>\n",
       "      <td>29</td>\n",
       "    </tr>\n",
       "    <tr>\n",
       "      <th>51701</th>\n",
       "      <td>1</td>\n",
       "      <td>1</td>\n",
       "      <td>4.1</td>\n",
       "      <td>673</td>\n",
       "      <td>8</td>\n",
       "      <td>69</td>\n",
       "      <td>1400</td>\n",
       "      <td>6</td>\n",
       "      <td>29</td>\n",
       "    </tr>\n",
       "    <tr>\n",
       "      <th>51702</th>\n",
       "      <td>0</td>\n",
       "      <td>0</td>\n",
       "      <td>4.0</td>\n",
       "      <td>1094</td>\n",
       "      <td>8</td>\n",
       "      <td>69</td>\n",
       "      <td>1450</td>\n",
       "      <td>6</td>\n",
       "      <td>29</td>\n",
       "    </tr>\n",
       "    <tr>\n",
       "      <th>51703</th>\n",
       "      <td>1</td>\n",
       "      <td>1</td>\n",
       "      <td>3.9</td>\n",
       "      <td>548</td>\n",
       "      <td>8</td>\n",
       "      <td>69</td>\n",
       "      <td>1500</td>\n",
       "      <td>6</td>\n",
       "      <td>29</td>\n",
       "    </tr>\n",
       "  </tbody>\n",
       "</table>\n",
       "<p>6935 rows × 9 columns</p>\n",
       "</div>"
      ],
      "text/plain": [
       "       online_order  book_table  rate  votes  rest_type  cuisines  \\\n",
       "0                 1           1   4.1    775          2        54   \n",
       "1                 1           0   4.1    787          2        69   \n",
       "2                 1           0   3.8    918          8        69   \n",
       "7                 1           1   4.6   2556          8        69   \n",
       "9                 1           0   4.2    504          1        69   \n",
       "...             ...         ...   ...    ...        ...       ...   \n",
       "51699             1           1   4.1   1218          8        69   \n",
       "51700             0           1   4.1   1003          8        69   \n",
       "51701             1           1   4.1    673          8        69   \n",
       "51702             0           0   4.0   1094          8        69   \n",
       "51703             1           1   3.9    548          8        69   \n",
       "\n",
       "       cost2people  type  city  \n",
       "0              800     0     1  \n",
       "1              800     0     1  \n",
       "2              800     0     1  \n",
       "7              600     1     1  \n",
       "9              550     1     1  \n",
       "...            ...   ...   ...  \n",
       "51699         1200     6    29  \n",
       "51700         1500     6    29  \n",
       "51701         1400     6    29  \n",
       "51702         1450     6    29  \n",
       "51703         1500     6    29  \n",
       "\n",
       "[6935 rows x 9 columns]"
      ]
     },
     "execution_count": 74,
     "metadata": {},
     "output_type": "execute_result"
    }
   ],
   "source": [
    "rest_data.loc[(rest_data[\"votes\"]>uppertail)]    # outliers present in uppertail"
   ]
  },
  {
   "cell_type": "code",
   "execution_count": 75,
   "id": "223a6938",
   "metadata": {},
   "outputs": [
    {
     "data": {
      "text/html": [
       "<div>\n",
       "<style scoped>\n",
       "    .dataframe tbody tr th:only-of-type {\n",
       "        vertical-align: middle;\n",
       "    }\n",
       "\n",
       "    .dataframe tbody tr th {\n",
       "        vertical-align: top;\n",
       "    }\n",
       "\n",
       "    .dataframe thead th {\n",
       "        text-align: right;\n",
       "    }\n",
       "</style>\n",
       "<table border=\"1\" class=\"dataframe\">\n",
       "  <thead>\n",
       "    <tr style=\"text-align: right;\">\n",
       "      <th></th>\n",
       "      <th>online_order</th>\n",
       "      <th>book_table</th>\n",
       "      <th>rate</th>\n",
       "      <th>votes</th>\n",
       "      <th>rest_type</th>\n",
       "      <th>cuisines</th>\n",
       "      <th>cost2people</th>\n",
       "      <th>type</th>\n",
       "      <th>city</th>\n",
       "    </tr>\n",
       "  </thead>\n",
       "  <tbody>\n",
       "  </tbody>\n",
       "</table>\n",
       "</div>"
      ],
      "text/plain": [
       "Empty DataFrame\n",
       "Columns: [online_order, book_table, rate, votes, rest_type, cuisines, cost2people, type, city]\n",
       "Index: []"
      ]
     },
     "execution_count": 75,
     "metadata": {},
     "output_type": "execute_result"
    }
   ],
   "source": [
    "rest_data.loc[(rest_data[\"votes\"]<lowertail)]   # outliers not present in lowertail"
   ]
  },
  {
   "cell_type": "code",
   "execution_count": 76,
   "id": "316a7557",
   "metadata": {},
   "outputs": [
    {
     "data": {
      "text/html": [
       "<div>\n",
       "<style scoped>\n",
       "    .dataframe tbody tr th:only-of-type {\n",
       "        vertical-align: middle;\n",
       "    }\n",
       "\n",
       "    .dataframe tbody tr th {\n",
       "        vertical-align: top;\n",
       "    }\n",
       "\n",
       "    .dataframe thead th {\n",
       "        text-align: right;\n",
       "    }\n",
       "</style>\n",
       "<table border=\"1\" class=\"dataframe\">\n",
       "  <thead>\n",
       "    <tr style=\"text-align: right;\">\n",
       "      <th></th>\n",
       "      <th>online_order</th>\n",
       "      <th>book_table</th>\n",
       "      <th>rate</th>\n",
       "      <th>votes</th>\n",
       "      <th>rest_type</th>\n",
       "      <th>cuisines</th>\n",
       "      <th>cost2people</th>\n",
       "      <th>type</th>\n",
       "      <th>city</th>\n",
       "    </tr>\n",
       "  </thead>\n",
       "  <tbody>\n",
       "    <tr>\n",
       "      <th>3</th>\n",
       "      <td>0</td>\n",
       "      <td>0</td>\n",
       "      <td>3.700000</td>\n",
       "      <td>88</td>\n",
       "      <td>6</td>\n",
       "      <td>65</td>\n",
       "      <td>300</td>\n",
       "      <td>0</td>\n",
       "      <td>1</td>\n",
       "    </tr>\n",
       "    <tr>\n",
       "      <th>4</th>\n",
       "      <td>0</td>\n",
       "      <td>0</td>\n",
       "      <td>3.800000</td>\n",
       "      <td>166</td>\n",
       "      <td>2</td>\n",
       "      <td>69</td>\n",
       "      <td>600</td>\n",
       "      <td>0</td>\n",
       "      <td>1</td>\n",
       "    </tr>\n",
       "    <tr>\n",
       "      <th>5</th>\n",
       "      <td>1</td>\n",
       "      <td>0</td>\n",
       "      <td>3.800000</td>\n",
       "      <td>286</td>\n",
       "      <td>2</td>\n",
       "      <td>43</td>\n",
       "      <td>600</td>\n",
       "      <td>0</td>\n",
       "      <td>1</td>\n",
       "    </tr>\n",
       "    <tr>\n",
       "      <th>6</th>\n",
       "      <td>0</td>\n",
       "      <td>0</td>\n",
       "      <td>3.600000</td>\n",
       "      <td>8</td>\n",
       "      <td>2</td>\n",
       "      <td>69</td>\n",
       "      <td>800</td>\n",
       "      <td>0</td>\n",
       "      <td>1</td>\n",
       "    </tr>\n",
       "    <tr>\n",
       "      <th>8</th>\n",
       "      <td>1</td>\n",
       "      <td>0</td>\n",
       "      <td>4.000000</td>\n",
       "      <td>324</td>\n",
       "      <td>1</td>\n",
       "      <td>69</td>\n",
       "      <td>700</td>\n",
       "      <td>1</td>\n",
       "      <td>1</td>\n",
       "    </tr>\n",
       "    <tr>\n",
       "      <th>...</th>\n",
       "      <td>...</td>\n",
       "      <td>...</td>\n",
       "      <td>...</td>\n",
       "      <td>...</td>\n",
       "      <td>...</td>\n",
       "      <td>...</td>\n",
       "      <td>...</td>\n",
       "      <td>...</td>\n",
       "      <td>...</td>\n",
       "    </tr>\n",
       "    <tr>\n",
       "      <th>51712</th>\n",
       "      <td>0</td>\n",
       "      <td>0</td>\n",
       "      <td>3.600000</td>\n",
       "      <td>27</td>\n",
       "      <td>8</td>\n",
       "      <td>26</td>\n",
       "      <td>1500</td>\n",
       "      <td>6</td>\n",
       "      <td>29</td>\n",
       "    </tr>\n",
       "    <tr>\n",
       "      <th>51713</th>\n",
       "      <td>0</td>\n",
       "      <td>0</td>\n",
       "      <td>3.700142</td>\n",
       "      <td>0</td>\n",
       "      <td>8</td>\n",
       "      <td>35</td>\n",
       "      <td>600</td>\n",
       "      <td>6</td>\n",
       "      <td>29</td>\n",
       "    </tr>\n",
       "    <tr>\n",
       "      <th>51714</th>\n",
       "      <td>0</td>\n",
       "      <td>0</td>\n",
       "      <td>3.700142</td>\n",
       "      <td>0</td>\n",
       "      <td>8</td>\n",
       "      <td>35</td>\n",
       "      <td>2000</td>\n",
       "      <td>6</td>\n",
       "      <td>29</td>\n",
       "    </tr>\n",
       "    <tr>\n",
       "      <th>51715</th>\n",
       "      <td>0</td>\n",
       "      <td>1</td>\n",
       "      <td>4.300000</td>\n",
       "      <td>236</td>\n",
       "      <td>8</td>\n",
       "      <td>35</td>\n",
       "      <td>2500</td>\n",
       "      <td>6</td>\n",
       "      <td>29</td>\n",
       "    </tr>\n",
       "    <tr>\n",
       "      <th>51716</th>\n",
       "      <td>0</td>\n",
       "      <td>0</td>\n",
       "      <td>3.400000</td>\n",
       "      <td>13</td>\n",
       "      <td>8</td>\n",
       "      <td>69</td>\n",
       "      <td>1500</td>\n",
       "      <td>6</td>\n",
       "      <td>29</td>\n",
       "    </tr>\n",
       "  </tbody>\n",
       "</table>\n",
       "<p>44674 rows × 9 columns</p>\n",
       "</div>"
      ],
      "text/plain": [
       "       online_order  book_table      rate  votes  rest_type  cuisines  \\\n",
       "3                 0           0  3.700000     88          6        65   \n",
       "4                 0           0  3.800000    166          2        69   \n",
       "5                 1           0  3.800000    286          2        43   \n",
       "6                 0           0  3.600000      8          2        69   \n",
       "8                 1           0  4.000000    324          1        69   \n",
       "...             ...         ...       ...    ...        ...       ...   \n",
       "51712             0           0  3.600000     27          8        26   \n",
       "51713             0           0  3.700142      0          8        35   \n",
       "51714             0           0  3.700142      0          8        35   \n",
       "51715             0           1  4.300000    236          8        35   \n",
       "51716             0           0  3.400000     13          8        69   \n",
       "\n",
       "       cost2people  type  city  \n",
       "3              300     0     1  \n",
       "4              600     0     1  \n",
       "5              600     0     1  \n",
       "6              800     0     1  \n",
       "8              700     1     1  \n",
       "...            ...   ...   ...  \n",
       "51712         1500     6    29  \n",
       "51713          600     6    29  \n",
       "51714         2000     6    29  \n",
       "51715         2500     6    29  \n",
       "51716         1500     6    29  \n",
       "\n",
       "[44674 rows x 9 columns]"
      ]
     },
     "execution_count": 76,
     "metadata": {},
     "output_type": "execute_result"
    }
   ],
   "source": [
    "# finding data without ouliers\n",
    "rest_data.loc[(rest_data[\"votes\"]<=uppertail) & (rest_data[\"votes\"]>=lowertail)]"
   ]
  },
  {
   "cell_type": "code",
   "execution_count": 77,
   "id": "026aee80",
   "metadata": {},
   "outputs": [
    {
     "data": {
      "text/plain": [
       "77"
      ]
     },
     "execution_count": 77,
     "metadata": {},
     "output_type": "execute_result"
    }
   ],
   "source": [
    "mean_data = rest_data.loc[(rest_data[\"votes\"]<=uppertail) & (rest_data[\"votes\"]>=lowertail),\"votes\"].mean()\n",
    "mean_data = int(np.ceil(mean_data))\n",
    "mean_data"
   ]
  },
  {
   "cell_type": "code",
   "execution_count": 78,
   "id": "9ee2c40e",
   "metadata": {},
   "outputs": [],
   "source": [
    "# outliers handling\n",
    "rest_data.loc[(rest_data[\"votes\"]>uppertail),\"votes\"] = mean_data"
   ]
  },
  {
   "cell_type": "code",
   "execution_count": 79,
   "id": "125d5284",
   "metadata": {},
   "outputs": [
    {
     "data": {
      "text/html": [
       "<div>\n",
       "<style scoped>\n",
       "    .dataframe tbody tr th:only-of-type {\n",
       "        vertical-align: middle;\n",
       "    }\n",
       "\n",
       "    .dataframe tbody tr th {\n",
       "        vertical-align: top;\n",
       "    }\n",
       "\n",
       "    .dataframe thead th {\n",
       "        text-align: right;\n",
       "    }\n",
       "</style>\n",
       "<table border=\"1\" class=\"dataframe\">\n",
       "  <thead>\n",
       "    <tr style=\"text-align: right;\">\n",
       "      <th></th>\n",
       "      <th>online_order</th>\n",
       "      <th>book_table</th>\n",
       "      <th>rate</th>\n",
       "      <th>votes</th>\n",
       "      <th>rest_type</th>\n",
       "      <th>cuisines</th>\n",
       "      <th>cost2people</th>\n",
       "      <th>type</th>\n",
       "      <th>city</th>\n",
       "    </tr>\n",
       "  </thead>\n",
       "  <tbody>\n",
       "  </tbody>\n",
       "</table>\n",
       "</div>"
      ],
      "text/plain": [
       "Empty DataFrame\n",
       "Columns: [online_order, book_table, rate, votes, rest_type, cuisines, cost2people, type, city]\n",
       "Index: []"
      ]
     },
     "execution_count": 79,
     "metadata": {},
     "output_type": "execute_result"
    }
   ],
   "source": [
    "rest_data.loc[(rest_data[\"votes\"]>uppertail)]"
   ]
  },
  {
   "cell_type": "code",
   "execution_count": 80,
   "id": "431f30c3",
   "metadata": {},
   "outputs": [
    {
     "data": {
      "text/plain": [
       "<AxesSubplot:xlabel='votes'>"
      ]
     },
     "execution_count": 80,
     "metadata": {},
     "output_type": "execute_result"
    },
    {
     "data": {
      "image/png": "[encoded data removed]",
      "text/plain": [
       "<Figure size 432x288 with 1 Axes>"
      ]
     },
     "metadata": {
      "needs_background": "light"
     },
     "output_type": "display_data"
    }
   ],
   "source": [
    "sns.boxplot(rest_data['votes'])"
   ]
  },
  {
   "cell_type": "code",
   "execution_count": 81,
   "id": "b554b058",
   "metadata": {},
   "outputs": [
    {
     "data": {
      "text/html": [
       "<div>\n",
       "<style scoped>\n",
       "    .dataframe tbody tr th:only-of-type {\n",
       "        vertical-align: middle;\n",
       "    }\n",
       "\n",
       "    .dataframe tbody tr th {\n",
       "        vertical-align: top;\n",
       "    }\n",
       "\n",
       "    .dataframe thead th {\n",
       "        text-align: right;\n",
       "    }\n",
       "</style>\n",
       "<table border=\"1\" class=\"dataframe\">\n",
       "  <thead>\n",
       "    <tr style=\"text-align: right;\">\n",
       "      <th></th>\n",
       "      <th>online_order</th>\n",
       "      <th>book_table</th>\n",
       "      <th>rate</th>\n",
       "      <th>votes</th>\n",
       "      <th>rest_type</th>\n",
       "      <th>cuisines</th>\n",
       "      <th>cost2people</th>\n",
       "      <th>type</th>\n",
       "      <th>city</th>\n",
       "    </tr>\n",
       "  </thead>\n",
       "  <tbody>\n",
       "    <tr>\n",
       "      <th>count</th>\n",
       "      <td>51609.000000</td>\n",
       "      <td>51609.000000</td>\n",
       "      <td>51609.000000</td>\n",
       "      <td>51609.000000</td>\n",
       "      <td>51609.000000</td>\n",
       "      <td>51609.000000</td>\n",
       "      <td>51609.000000</td>\n",
       "      <td>51609.000000</td>\n",
       "      <td>51609.000000</td>\n",
       "    </tr>\n",
       "    <tr>\n",
       "      <th>mean</th>\n",
       "      <td>0.588289</td>\n",
       "      <td>0.124319</td>\n",
       "      <td>3.700142</td>\n",
       "      <td>76.289814</td>\n",
       "      <td>4.880292</td>\n",
       "      <td>52.684280</td>\n",
       "      <td>553.469841</td>\n",
       "      <td>2.807689</td>\n",
       "      <td>14.208665</td>\n",
       "    </tr>\n",
       "    <tr>\n",
       "      <th>std</th>\n",
       "      <td>0.492148</td>\n",
       "      <td>0.329949</td>\n",
       "      <td>0.395393</td>\n",
       "      <td>100.497008</td>\n",
       "      <td>2.402019</td>\n",
       "      <td>21.432799</td>\n",
       "      <td>437.616340</td>\n",
       "      <td>1.140684</td>\n",
       "      <td>8.285783</td>\n",
       "    </tr>\n",
       "    <tr>\n",
       "      <th>min</th>\n",
       "      <td>0.000000</td>\n",
       "      <td>0.000000</td>\n",
       "      <td>1.800000</td>\n",
       "      <td>0.000000</td>\n",
       "      <td>0.000000</td>\n",
       "      <td>0.000000</td>\n",
       "      <td>40.000000</td>\n",
       "      <td>0.000000</td>\n",
       "      <td>0.000000</td>\n",
       "    </tr>\n",
       "    <tr>\n",
       "      <th>25%</th>\n",
       "      <td>0.000000</td>\n",
       "      <td>0.000000</td>\n",
       "      <td>3.500000</td>\n",
       "      <td>7.000000</td>\n",
       "      <td>2.000000</td>\n",
       "      <td>43.000000</td>\n",
       "      <td>300.000000</td>\n",
       "      <td>2.000000</td>\n",
       "      <td>7.000000</td>\n",
       "    </tr>\n",
       "    <tr>\n",
       "      <th>50%</th>\n",
       "      <td>1.000000</td>\n",
       "      <td>0.000000</td>\n",
       "      <td>3.700142</td>\n",
       "      <td>41.000000</td>\n",
       "      <td>6.000000</td>\n",
       "      <td>69.000000</td>\n",
       "      <td>400.000000</td>\n",
       "      <td>2.000000</td>\n",
       "      <td>15.000000</td>\n",
       "    </tr>\n",
       "    <tr>\n",
       "      <th>75%</th>\n",
       "      <td>1.000000</td>\n",
       "      <td>0.000000</td>\n",
       "      <td>3.900000</td>\n",
       "      <td>83.000000</td>\n",
       "      <td>6.000000</td>\n",
       "      <td>69.000000</td>\n",
       "      <td>650.000000</td>\n",
       "      <td>4.000000</td>\n",
       "      <td>20.000000</td>\n",
       "    </tr>\n",
       "    <tr>\n",
       "      <th>max</th>\n",
       "      <td>1.000000</td>\n",
       "      <td>1.000000</td>\n",
       "      <td>4.900000</td>\n",
       "      <td>484.000000</td>\n",
       "      <td>8.000000</td>\n",
       "      <td>69.000000</td>\n",
       "      <td>6000.000000</td>\n",
       "      <td>6.000000</td>\n",
       "      <td>29.000000</td>\n",
       "    </tr>\n",
       "  </tbody>\n",
       "</table>\n",
       "</div>"
      ],
      "text/plain": [
       "       online_order    book_table          rate         votes     rest_type  \\\n",
       "count  51609.000000  51609.000000  51609.000000  51609.000000  51609.000000   \n",
       "mean       0.588289      0.124319      3.700142     76.289814      4.880292   \n",
       "std        0.492148      0.329949      0.395393    100.497008      2.402019   \n",
       "min        0.000000      0.000000      1.800000      0.000000      0.000000   \n",
       "25%        0.000000      0.000000      3.500000      7.000000      2.000000   \n",
       "50%        1.000000      0.000000      3.700142     41.000000      6.000000   \n",
       "75%        1.000000      0.000000      3.900000     83.000000      6.000000   \n",
       "max        1.000000      1.000000      4.900000    484.000000      8.000000   \n",
       "\n",
       "           cuisines   cost2people          type          city  \n",
       "count  51609.000000  51609.000000  51609.000000  51609.000000  \n",
       "mean      52.684280    553.469841      2.807689     14.208665  \n",
       "std       21.432799    437.616340      1.140684      8.285783  \n",
       "min        0.000000     40.000000      0.000000      0.000000  \n",
       "25%       43.000000    300.000000      2.000000      7.000000  \n",
       "50%       69.000000    400.000000      2.000000     15.000000  \n",
       "75%       69.000000    650.000000      4.000000     20.000000  \n",
       "max       69.000000   6000.000000      6.000000     29.000000  "
      ]
     },
     "execution_count": 81,
     "metadata": {},
     "output_type": "execute_result"
    }
   ],
   "source": [
    "rest_data.describe()"
   ]
  },
  {
   "cell_type": "markdown",
   "id": "ac3f4a50",
   "metadata": {},
   "source": [
    "### Feature Scaling"
   ]
  },
  {
   "cell_type": "code",
   "execution_count": 82,
   "id": "44394b0b",
   "metadata": {},
   "outputs": [],
   "source": [
    "from sklearn.preprocessing import StandardScaler\n",
    "ss = StandardScaler()"
   ]
  },
  {
   "cell_type": "code",
   "execution_count": 83,
   "id": "b318765f",
   "metadata": {},
   "outputs": [],
   "source": [
    "# drop and define y variable \n",
    "\n",
    "x = rest_data.drop(columns=\"rate\",axis = 1)\n",
    "y = rest_data[\"rate\"]"
   ]
  },
  {
   "cell_type": "code",
   "execution_count": 84,
   "id": "b1c659b4",
   "metadata": {},
   "outputs": [
    {
     "data": {
      "text/html": [
       "<div>\n",
       "<style scoped>\n",
       "    .dataframe tbody tr th:only-of-type {\n",
       "        vertical-align: middle;\n",
       "    }\n",
       "\n",
       "    .dataframe tbody tr th {\n",
       "        vertical-align: top;\n",
       "    }\n",
       "\n",
       "    .dataframe thead th {\n",
       "        text-align: right;\n",
       "    }\n",
       "</style>\n",
       "<table border=\"1\" class=\"dataframe\">\n",
       "  <thead>\n",
       "    <tr style=\"text-align: right;\">\n",
       "      <th></th>\n",
       "      <th>online_order</th>\n",
       "      <th>book_table</th>\n",
       "      <th>votes</th>\n",
       "      <th>rest_type</th>\n",
       "      <th>cuisines</th>\n",
       "      <th>cost2people</th>\n",
       "      <th>type</th>\n",
       "      <th>city</th>\n",
       "    </tr>\n",
       "  </thead>\n",
       "  <tbody>\n",
       "    <tr>\n",
       "      <th>0</th>\n",
       "      <td>0.836568</td>\n",
       "      <td>2.654015</td>\n",
       "      <td>0.007067</td>\n",
       "      <td>-1.199125</td>\n",
       "      <td>0.061389</td>\n",
       "      <td>0.563353</td>\n",
       "      <td>-2.461431</td>\n",
       "      <td>-1.594151</td>\n",
       "    </tr>\n",
       "    <tr>\n",
       "      <th>1</th>\n",
       "      <td>0.836568</td>\n",
       "      <td>-0.376788</td>\n",
       "      <td>0.007067</td>\n",
       "      <td>-1.199125</td>\n",
       "      <td>0.761257</td>\n",
       "      <td>0.563353</td>\n",
       "      <td>-2.461431</td>\n",
       "      <td>-1.594151</td>\n",
       "    </tr>\n",
       "    <tr>\n",
       "      <th>2</th>\n",
       "      <td>0.836568</td>\n",
       "      <td>-0.376788</td>\n",
       "      <td>0.007067</td>\n",
       "      <td>1.298798</td>\n",
       "      <td>0.761257</td>\n",
       "      <td>0.563353</td>\n",
       "      <td>-2.461431</td>\n",
       "      <td>-1.594151</td>\n",
       "    </tr>\n",
       "    <tr>\n",
       "      <th>3</th>\n",
       "      <td>-1.195361</td>\n",
       "      <td>-0.376788</td>\n",
       "      <td>0.116524</td>\n",
       "      <td>0.466157</td>\n",
       "      <td>0.574626</td>\n",
       "      <td>-0.579211</td>\n",
       "      <td>-2.461431</td>\n",
       "      <td>-1.594151</td>\n",
       "    </tr>\n",
       "    <tr>\n",
       "      <th>4</th>\n",
       "      <td>-1.195361</td>\n",
       "      <td>-0.376788</td>\n",
       "      <td>0.892674</td>\n",
       "      <td>-1.199125</td>\n",
       "      <td>0.761257</td>\n",
       "      <td>0.106327</td>\n",
       "      <td>-2.461431</td>\n",
       "      <td>-1.594151</td>\n",
       "    </tr>\n",
       "    <tr>\n",
       "      <th>...</th>\n",
       "      <td>...</td>\n",
       "      <td>...</td>\n",
       "      <td>...</td>\n",
       "      <td>...</td>\n",
       "      <td>...</td>\n",
       "      <td>...</td>\n",
       "      <td>...</td>\n",
       "      <td>...</td>\n",
       "    </tr>\n",
       "    <tr>\n",
       "      <th>51604</th>\n",
       "      <td>-1.195361</td>\n",
       "      <td>-0.376788</td>\n",
       "      <td>-0.490465</td>\n",
       "      <td>1.298798</td>\n",
       "      <td>-1.245033</td>\n",
       "      <td>2.162943</td>\n",
       "      <td>2.798620</td>\n",
       "      <td>1.785164</td>\n",
       "    </tr>\n",
       "    <tr>\n",
       "      <th>51605</th>\n",
       "      <td>-1.195361</td>\n",
       "      <td>-0.376788</td>\n",
       "      <td>-0.759133</td>\n",
       "      <td>1.298798</td>\n",
       "      <td>-0.825112</td>\n",
       "      <td>0.106327</td>\n",
       "      <td>2.798620</td>\n",
       "      <td>1.785164</td>\n",
       "    </tr>\n",
       "    <tr>\n",
       "      <th>51606</th>\n",
       "      <td>-1.195361</td>\n",
       "      <td>-0.376788</td>\n",
       "      <td>-0.759133</td>\n",
       "      <td>1.298798</td>\n",
       "      <td>-0.825112</td>\n",
       "      <td>3.305508</td>\n",
       "      <td>2.798620</td>\n",
       "      <td>1.785164</td>\n",
       "    </tr>\n",
       "    <tr>\n",
       "      <th>51607</th>\n",
       "      <td>-1.195361</td>\n",
       "      <td>2.654015</td>\n",
       "      <td>1.589219</td>\n",
       "      <td>1.298798</td>\n",
       "      <td>-0.825112</td>\n",
       "      <td>4.448072</td>\n",
       "      <td>2.798620</td>\n",
       "      <td>1.785164</td>\n",
       "    </tr>\n",
       "    <tr>\n",
       "      <th>51608</th>\n",
       "      <td>-1.195361</td>\n",
       "      <td>-0.376788</td>\n",
       "      <td>-0.629774</td>\n",
       "      <td>1.298798</td>\n",
       "      <td>0.761257</td>\n",
       "      <td>2.162943</td>\n",
       "      <td>2.798620</td>\n",
       "      <td>1.785164</td>\n",
       "    </tr>\n",
       "  </tbody>\n",
       "</table>\n",
       "<p>51609 rows × 8 columns</p>\n",
       "</div>"
      ],
      "text/plain": [
       "       online_order  book_table     votes  rest_type  cuisines  cost2people  \\\n",
       "0          0.836568    2.654015  0.007067  -1.199125  0.061389     0.563353   \n",
       "1          0.836568   -0.376788  0.007067  -1.199125  0.761257     0.563353   \n",
       "2          0.836568   -0.376788  0.007067   1.298798  0.761257     0.563353   \n",
       "3         -1.195361   -0.376788  0.116524   0.466157  0.574626    -0.579211   \n",
       "4         -1.195361   -0.376788  0.892674  -1.199125  0.761257     0.106327   \n",
       "...             ...         ...       ...        ...       ...          ...   \n",
       "51604     -1.195361   -0.376788 -0.490465   1.298798 -1.245033     2.162943   \n",
       "51605     -1.195361   -0.376788 -0.759133   1.298798 -0.825112     0.106327   \n",
       "51606     -1.195361   -0.376788 -0.759133   1.298798 -0.825112     3.305508   \n",
       "51607     -1.195361    2.654015  1.589219   1.298798 -0.825112     4.448072   \n",
       "51608     -1.195361   -0.376788 -0.629774   1.298798  0.761257     2.162943   \n",
       "\n",
       "           type      city  \n",
       "0     -2.461431 -1.594151  \n",
       "1     -2.461431 -1.594151  \n",
       "2     -2.461431 -1.594151  \n",
       "3     -2.461431 -1.594151  \n",
       "4     -2.461431 -1.594151  \n",
       "...         ...       ...  \n",
       "51604  2.798620  1.785164  \n",
       "51605  2.798620  1.785164  \n",
       "51606  2.798620  1.785164  \n",
       "51607  2.798620  1.785164  \n",
       "51608  2.798620  1.785164  \n",
       "\n",
       "[51609 rows x 8 columns]"
      ]
     },
     "execution_count": 84,
     "metadata": {},
     "output_type": "execute_result"
    }
   ],
   "source": [
    "std_scalar = StandardScaler()\n",
    "array = std_scalar.fit_transform(x)\n",
    "scaled_x = pd.DataFrame(array,columns=x.columns)\n",
    "scaled_x"
   ]
  },
  {
   "cell_type": "markdown",
   "id": "3c6a9654",
   "metadata": {},
   "source": [
    "### Model Build"
   ]
  },
  {
   "cell_type": "code",
   "execution_count": 85,
   "id": "4ea84778",
   "metadata": {},
   "outputs": [],
   "source": [
    "x_train, x_test, y_train, y_test = train_test_split(scaled_x, y, test_size=0.2, random_state = 45)"
   ]
  },
  {
   "cell_type": "markdown",
   "id": "a66008b1",
   "metadata": {},
   "source": [
    "### Linear Regression Algorithm"
   ]
  },
  {
   "cell_type": "markdown",
   "id": "3ba87837",
   "metadata": {},
   "source": [
    "### Model Train"
   ]
  },
  {
   "cell_type": "code",
   "execution_count": 86,
   "id": "5fc6b27c",
   "metadata": {},
   "outputs": [
    {
     "data": {
      "text/html": [
       "<style>#sk-container-id-1 {color: black;background-color: white;}#sk-container-id-1 pre{padding: 0;}#sk-container-id-1 div.sk-toggleable {background-color: white;}#sk-container-id-1 label.sk-toggleable__label {cursor: pointer;display: block;width: 100%;margin-bottom: 0;padding: 0.3em;box-sizing: border-box;text-align: center;}#sk-container-id-1 label.sk-toggleable__label-arrow:before {content: \"▸\";float: left;margin-right: 0.25em;color: #696969;}#sk-container-id-1 label.sk-toggleable__label-arrow:hover:before {color: black;}#sk-container-id-1 div.sk-estimator:hover label.sk-toggleable__label-arrow:before {color: black;}#sk-container-id-1 div.sk-toggleable__content {max-height: 0;max-width: 0;overflow: hidden;text-align: left;background-color: #f0f8ff;}#sk-container-id-1 div.sk-toggleable__content pre {margin: 0.2em;color: black;border-radius: 0.25em;background-color: #f0f8ff;}#sk-container-id-1 input.sk-toggleable__control:checked~div.sk-toggleable__content {max-height: 200px;max-width: 100%;overflow: auto;}#sk-container-id-1 input.sk-toggleable__control:checked~label.sk-toggleable__label-arrow:before {content: \"▾\";}#sk-container-id-1 div.sk-estimator input.sk-toggleable__control:checked~label.sk-toggleable__label {background-color: #d4ebff;}#sk-container-id-1 div.sk-label input.sk-toggleable__control:checked~label.sk-toggleable__label {background-color: #d4ebff;}#sk-container-id-1 input.sk-hidden--visually {border: 0;clip: rect(1px 1px 1px 1px);clip: rect(1px, 1px, 1px, 1px);height: 1px;margin: -1px;overflow: hidden;padding: 0;position: absolute;width: 1px;}#sk-container-id-1 div.sk-estimator {font-family: monospace;background-color: #f0f8ff;border: 1px dotted black;border-radius: 0.25em;box-sizing: border-box;margin-bottom: 0.5em;}#sk-container-id-1 div.sk-estimator:hover {background-color: #d4ebff;}#sk-container-id-1 div.sk-parallel-item::after {content: \"\";width: 100%;border-bottom: 1px solid gray;flex-grow: 1;}#sk-container-id-1 div.sk-label:hover label.sk-toggleable__label {background-color: #d4ebff;}#sk-container-id-1 div.sk-serial::before {content: \"\";position: absolute;border-left: 1px solid gray;box-sizing: border-box;top: 0;bottom: 0;left: 50%;z-index: 0;}#sk-container-id-1 div.sk-serial {display: flex;flex-direction: column;align-items: center;background-color: white;padding-right: 0.2em;padding-left: 0.2em;position: relative;}#sk-container-id-1 div.sk-item {position: relative;z-index: 1;}#sk-container-id-1 div.sk-parallel {display: flex;align-items: stretch;justify-content: center;background-color: white;position: relative;}#sk-container-id-1 div.sk-item::before, #sk-container-id-1 div.sk-parallel-item::before {content: \"\";position: absolute;border-left: 1px solid gray;box-sizing: border-box;top: 0;bottom: 0;left: 50%;z-index: -1;}#sk-container-id-1 div.sk-parallel-item {display: flex;flex-direction: column;z-index: 1;position: relative;background-color: white;}#sk-container-id-1 div.sk-parallel-item:first-child::after {align-self: flex-end;width: 50%;}#sk-container-id-1 div.sk-parallel-item:last-child::after {align-self: flex-start;width: 50%;}#sk-container-id-1 div.sk-parallel-item:only-child::after {width: 0;}#sk-container-id-1 div.sk-dashed-wrapped {border: 1px dashed gray;margin: 0 0.4em 0.5em 0.4em;box-sizing: border-box;padding-bottom: 0.4em;background-color: white;}#sk-container-id-1 div.sk-label label {font-family: monospace;font-weight: bold;display: inline-block;line-height: 1.2em;}#sk-container-id-1 div.sk-label-container {text-align: center;}#sk-container-id-1 div.sk-container {/* jupyter's `normalize.less` sets `[hidden] { display: none; }` but bootstrap.min.css set `[hidden] { display: none !important; }` so we also need the `!important` here to be able to override the default hidden behavior on the sphinx rendered scikit-learn.org. See: https://github.com/scikit-learn/scikit-learn/issues/21755 */display: inline-block !important;position: relative;}#sk-container-id-1 div.sk-text-repr-fallback {display: none;}</style><div id=\"sk-container-id-1\" class=\"sk-top-container\"><div class=\"sk-text-repr-fallback\"><pre>LinearRegression()</pre><b>In a Jupyter environment, please rerun this cell to show the HTML representation or trust the notebook. <br />On GitHub, the HTML representation is unable to render, please try loading this page with nbviewer.org.</b></div><div class=\"sk-container\" hidden><div class=\"sk-item\"><div class=\"sk-estimator sk-toggleable\"><input class=\"sk-toggleable__control sk-hidden--visually\" id=\"sk-estimator-id-1\" type=\"checkbox\" checked><label for=\"sk-estimator-id-1\" class=\"sk-toggleable__label sk-toggleable__label-arrow\">LinearRegression</label><div class=\"sk-toggleable__content\"><pre>LinearRegression()</pre></div></div></div></div></div>"
      ],
      "text/plain": [
       "LinearRegression()"
      ]
     },
     "execution_count": 86,
     "metadata": {},
     "output_type": "execute_result"
    }
   ],
   "source": [
    "lr=LinearRegression()\n",
    "lr.fit(x_train,y_train)"
   ]
  },
  {
   "cell_type": "code",
   "execution_count": 87,
   "id": "a19e97f0",
   "metadata": {},
   "outputs": [
    {
     "name": "stdout",
     "output_type": "stream",
     "text": [
      "MSE =  0.12136257842819795\n",
      "r2 score =  0.22416773814581936\n"
     ]
    }
   ],
   "source": [
    "# Training model of linear regression\n",
    "\n",
    "y_pred_train = lr.predict(x_train)\n",
    "mse = mean_squared_error(y_train,y_pred_train)\n",
    "print(\"MSE = \",mse)\n",
    "r2 = r2_score(y_train,y_pred_train)\n",
    "print(\"r2 score = \",r2)"
   ]
  },
  {
   "cell_type": "code",
   "execution_count": 88,
   "id": "359e669d",
   "metadata": {},
   "outputs": [
    {
     "name": "stdout",
     "output_type": "stream",
     "text": [
      "MSE =  0.12068640885064218\n",
      "r2 score =  0.22609886619803332\n"
     ]
    }
   ],
   "source": [
    "# Testing model of linear regression\n",
    "\n",
    "y_pred_test = lr.predict(x_test)\n",
    "mse = mean_squared_error(y_test,y_pred_test)\n",
    "print(\"MSE = \",mse)\n",
    "r2 = r2_score(y_test,y_pred_test)\n",
    "print(\"r2 score = \",r2)"
   ]
  },
  {
   "cell_type": "code",
   "execution_count": 89,
   "id": "841700f4",
   "metadata": {},
   "outputs": [],
   "source": [
    "lr_reg_pred=lr.predict(x_test)"
   ]
  },
  {
   "cell_type": "code",
   "execution_count": 90,
   "id": "0a031cac",
   "metadata": {},
   "outputs": [
    {
     "name": "stdout",
     "output_type": "stream",
     "text": [
      "Accuracy score for LR : 22.609886619803333\n"
     ]
    }
   ],
   "source": [
    "from sklearn.metrics import r2_score\n",
    "lr_reg_score=r2_score(y_test,lr_reg_pred)*100\n",
    "print(\"Accuracy score for LR :\",lr_reg_score)"
   ]
  },
  {
   "cell_type": "markdown",
   "id": "9cf6b111",
   "metadata": {},
   "source": [
    "### Random Forest Regressor Algorithm"
   ]
  },
  {
   "cell_type": "code",
   "execution_count": 91,
   "id": "d9b2f8b8",
   "metadata": {},
   "outputs": [
    {
     "data": {
      "text/html": [
       "<style>#sk-container-id-2 {color: black;background-color: white;}#sk-container-id-2 pre{padding: 0;}#sk-container-id-2 div.sk-toggleable {background-color: white;}#sk-container-id-2 label.sk-toggleable__label {cursor: pointer;display: block;width: 100%;margin-bottom: 0;padding: 0.3em;box-sizing: border-box;text-align: center;}#sk-container-id-2 label.sk-toggleable__label-arrow:before {content: \"▸\";float: left;margin-right: 0.25em;color: #696969;}#sk-container-id-2 label.sk-toggleable__label-arrow:hover:before {color: black;}#sk-container-id-2 div.sk-estimator:hover label.sk-toggleable__label-arrow:before {color: black;}#sk-container-id-2 div.sk-toggleable__content {max-height: 0;max-width: 0;overflow: hidden;text-align: left;background-color: #f0f8ff;}#sk-container-id-2 div.sk-toggleable__content pre {margin: 0.2em;color: black;border-radius: 0.25em;background-color: #f0f8ff;}#sk-container-id-2 input.sk-toggleable__control:checked~div.sk-toggleable__content {max-height: 200px;max-width: 100%;overflow: auto;}#sk-container-id-2 input.sk-toggleable__control:checked~label.sk-toggleable__label-arrow:before {content: \"▾\";}#sk-container-id-2 div.sk-estimator input.sk-toggleable__control:checked~label.sk-toggleable__label {background-color: #d4ebff;}#sk-container-id-2 div.sk-label input.sk-toggleable__control:checked~label.sk-toggleable__label {background-color: #d4ebff;}#sk-container-id-2 input.sk-hidden--visually {border: 0;clip: rect(1px 1px 1px 1px);clip: rect(1px, 1px, 1px, 1px);height: 1px;margin: -1px;overflow: hidden;padding: 0;position: absolute;width: 1px;}#sk-container-id-2 div.sk-estimator {font-family: monospace;background-color: #f0f8ff;border: 1px dotted black;border-radius: 0.25em;box-sizing: border-box;margin-bottom: 0.5em;}#sk-container-id-2 div.sk-estimator:hover {background-color: #d4ebff;}#sk-container-id-2 div.sk-parallel-item::after {content: \"\";width: 100%;border-bottom: 1px solid gray;flex-grow: 1;}#sk-container-id-2 div.sk-label:hover label.sk-toggleable__label {background-color: #d4ebff;}#sk-container-id-2 div.sk-serial::before {content: \"\";position: absolute;border-left: 1px solid gray;box-sizing: border-box;top: 0;bottom: 0;left: 50%;z-index: 0;}#sk-container-id-2 div.sk-serial {display: flex;flex-direction: column;align-items: center;background-color: white;padding-right: 0.2em;padding-left: 0.2em;position: relative;}#sk-container-id-2 div.sk-item {position: relative;z-index: 1;}#sk-container-id-2 div.sk-parallel {display: flex;align-items: stretch;justify-content: center;background-color: white;position: relative;}#sk-container-id-2 div.sk-item::before, #sk-container-id-2 div.sk-parallel-item::before {content: \"\";position: absolute;border-left: 1px solid gray;box-sizing: border-box;top: 0;bottom: 0;left: 50%;z-index: -1;}#sk-container-id-2 div.sk-parallel-item {display: flex;flex-direction: column;z-index: 1;position: relative;background-color: white;}#sk-container-id-2 div.sk-parallel-item:first-child::after {align-self: flex-end;width: 50%;}#sk-container-id-2 div.sk-parallel-item:last-child::after {align-self: flex-start;width: 50%;}#sk-container-id-2 div.sk-parallel-item:only-child::after {width: 0;}#sk-container-id-2 div.sk-dashed-wrapped {border: 1px dashed gray;margin: 0 0.4em 0.5em 0.4em;box-sizing: border-box;padding-bottom: 0.4em;background-color: white;}#sk-container-id-2 div.sk-label label {font-family: monospace;font-weight: bold;display: inline-block;line-height: 1.2em;}#sk-container-id-2 div.sk-label-container {text-align: center;}#sk-container-id-2 div.sk-container {/* jupyter's `normalize.less` sets `[hidden] { display: none; }` but bootstrap.min.css set `[hidden] { display: none !important; }` so we also need the `!important` here to be able to override the default hidden behavior on the sphinx rendered scikit-learn.org. See: https://github.com/scikit-learn/scikit-learn/issues/21755 */display: inline-block !important;position: relative;}#sk-container-id-2 div.sk-text-repr-fallback {display: none;}</style><div id=\"sk-container-id-2\" class=\"sk-top-container\"><div class=\"sk-text-repr-fallback\"><pre>RandomForestRegressor()</pre><b>In a Jupyter environment, please rerun this cell to show the HTML representation or trust the notebook. <br />On GitHub, the HTML representation is unable to render, please try loading this page with nbviewer.org.</b></div><div class=\"sk-container\" hidden><div class=\"sk-item\"><div class=\"sk-estimator sk-toggleable\"><input class=\"sk-toggleable__control sk-hidden--visually\" id=\"sk-estimator-id-2\" type=\"checkbox\" checked><label for=\"sk-estimator-id-2\" class=\"sk-toggleable__label sk-toggleable__label-arrow\">RandomForestRegressor</label><div class=\"sk-toggleable__content\"><pre>RandomForestRegressor()</pre></div></div></div></div></div>"
      ],
      "text/plain": [
       "RandomForestRegressor()"
      ]
     },
     "execution_count": 91,
     "metadata": {},
     "output_type": "execute_result"
    }
   ],
   "source": [
    "rfr=RandomForestRegressor()\n",
    "rfr"
   ]
  },
  {
   "cell_type": "code",
   "execution_count": 92,
   "id": "b29d0b90",
   "metadata": {},
   "outputs": [
    {
     "data": {
      "text/html": [
       "<style>#sk-container-id-3 {color: black;background-color: white;}#sk-container-id-3 pre{padding: 0;}#sk-container-id-3 div.sk-toggleable {background-color: white;}#sk-container-id-3 label.sk-toggleable__label {cursor: pointer;display: block;width: 100%;margin-bottom: 0;padding: 0.3em;box-sizing: border-box;text-align: center;}#sk-container-id-3 label.sk-toggleable__label-arrow:before {content: \"▸\";float: left;margin-right: 0.25em;color: #696969;}#sk-container-id-3 label.sk-toggleable__label-arrow:hover:before {color: black;}#sk-container-id-3 div.sk-estimator:hover label.sk-toggleable__label-arrow:before {color: black;}#sk-container-id-3 div.sk-toggleable__content {max-height: 0;max-width: 0;overflow: hidden;text-align: left;background-color: #f0f8ff;}#sk-container-id-3 div.sk-toggleable__content pre {margin: 0.2em;color: black;border-radius: 0.25em;background-color: #f0f8ff;}#sk-container-id-3 input.sk-toggleable__control:checked~div.sk-toggleable__content {max-height: 200px;max-width: 100%;overflow: auto;}#sk-container-id-3 input.sk-toggleable__control:checked~label.sk-toggleable__label-arrow:before {content: \"▾\";}#sk-container-id-3 div.sk-estimator input.sk-toggleable__control:checked~label.sk-toggleable__label {background-color: #d4ebff;}#sk-container-id-3 div.sk-label input.sk-toggleable__control:checked~label.sk-toggleable__label {background-color: #d4ebff;}#sk-container-id-3 input.sk-hidden--visually {border: 0;clip: rect(1px 1px 1px 1px);clip: rect(1px, 1px, 1px, 1px);height: 1px;margin: -1px;overflow: hidden;padding: 0;position: absolute;width: 1px;}#sk-container-id-3 div.sk-estimator {font-family: monospace;background-color: #f0f8ff;border: 1px dotted black;border-radius: 0.25em;box-sizing: border-box;margin-bottom: 0.5em;}#sk-container-id-3 div.sk-estimator:hover {background-color: #d4ebff;}#sk-container-id-3 div.sk-parallel-item::after {content: \"\";width: 100%;border-bottom: 1px solid gray;flex-grow: 1;}#sk-container-id-3 div.sk-label:hover label.sk-toggleable__label {background-color: #d4ebff;}#sk-container-id-3 div.sk-serial::before {content: \"\";position: absolute;border-left: 1px solid gray;box-sizing: border-box;top: 0;bottom: 0;left: 50%;z-index: 0;}#sk-container-id-3 div.sk-serial {display: flex;flex-direction: column;align-items: center;background-color: white;padding-right: 0.2em;padding-left: 0.2em;position: relative;}#sk-container-id-3 div.sk-item {position: relative;z-index: 1;}#sk-container-id-3 div.sk-parallel {display: flex;align-items: stretch;justify-content: center;background-color: white;position: relative;}#sk-container-id-3 div.sk-item::before, #sk-container-id-3 div.sk-parallel-item::before {content: \"\";position: absolute;border-left: 1px solid gray;box-sizing: border-box;top: 0;bottom: 0;left: 50%;z-index: -1;}#sk-container-id-3 div.sk-parallel-item {display: flex;flex-direction: column;z-index: 1;position: relative;background-color: white;}#sk-container-id-3 div.sk-parallel-item:first-child::after {align-self: flex-end;width: 50%;}#sk-container-id-3 div.sk-parallel-item:last-child::after {align-self: flex-start;width: 50%;}#sk-container-id-3 div.sk-parallel-item:only-child::after {width: 0;}#sk-container-id-3 div.sk-dashed-wrapped {border: 1px dashed gray;margin: 0 0.4em 0.5em 0.4em;box-sizing: border-box;padding-bottom: 0.4em;background-color: white;}#sk-container-id-3 div.sk-label label {font-family: monospace;font-weight: bold;display: inline-block;line-height: 1.2em;}#sk-container-id-3 div.sk-label-container {text-align: center;}#sk-container-id-3 div.sk-container {/* jupyter's `normalize.less` sets `[hidden] { display: none; }` but bootstrap.min.css set `[hidden] { display: none !important; }` so we also need the `!important` here to be able to override the default hidden behavior on the sphinx rendered scikit-learn.org. See: https://github.com/scikit-learn/scikit-learn/issues/21755 */display: inline-block !important;position: relative;}#sk-container-id-3 div.sk-text-repr-fallback {display: none;}</style><div id=\"sk-container-id-3\" class=\"sk-top-container\"><div class=\"sk-text-repr-fallback\"><pre>RandomForestRegressor()</pre><b>In a Jupyter environment, please rerun this cell to show the HTML representation or trust the notebook. <br />On GitHub, the HTML representation is unable to render, please try loading this page with nbviewer.org.</b></div><div class=\"sk-container\" hidden><div class=\"sk-item\"><div class=\"sk-estimator sk-toggleable\"><input class=\"sk-toggleable__control sk-hidden--visually\" id=\"sk-estimator-id-3\" type=\"checkbox\" checked><label for=\"sk-estimator-id-3\" class=\"sk-toggleable__label sk-toggleable__label-arrow\">RandomForestRegressor</label><div class=\"sk-toggleable__content\"><pre>RandomForestRegressor()</pre></div></div></div></div></div>"
      ],
      "text/plain": [
       "RandomForestRegressor()"
      ]
     },
     "execution_count": 92,
     "metadata": {},
     "output_type": "execute_result"
    }
   ],
   "source": [
    "rfr.fit(x_train,y_train)"
   ]
  },
  {
   "cell_type": "code",
   "execution_count": 93,
   "id": "d87240ec",
   "metadata": {},
   "outputs": [
    {
     "name": "stdout",
     "output_type": "stream",
     "text": [
      "0.9683688854840055\n"
     ]
    }
   ],
   "source": [
    "# Training model of RandomForestRegressor\n",
    "print(rfr.score(x_train,y_train))"
   ]
  },
  {
   "cell_type": "code",
   "execution_count": 94,
   "id": "249a9cdf",
   "metadata": {},
   "outputs": [
    {
     "name": "stdout",
     "output_type": "stream",
     "text": [
      "0.8155332438016946\n"
     ]
    }
   ],
   "source": [
    "# Testing model of RandomForestRegressor\n",
    "print(rfr.score(x_test,y_test))"
   ]
  },
  {
   "cell_type": "code",
   "execution_count": 95,
   "id": "899e46b1",
   "metadata": {},
   "outputs": [],
   "source": [
    "rfr_pred=rfr.predict(x_test)"
   ]
  },
  {
   "cell_type": "code",
   "execution_count": 96,
   "id": "a1090709",
   "metadata": {},
   "outputs": [
    {
     "name": "stdout",
     "output_type": "stream",
     "text": [
      "Accuracy score for RFR : 81.55332438016946\n"
     ]
    }
   ],
   "source": [
    "from sklearn.metrics import r2_score\n",
    "\n",
    "rfr_score=r2_score(y_test,rfr_pred)*100\n",
    "print(\"Accuracy score for RFR :\",rfr_score)"
   ]
  },
  {
   "cell_type": "markdown",
   "id": "b8cb220c",
   "metadata": {},
   "source": [
    "### Hyperparameter Tuning for RandomForestRegressor"
   ]
  },
  {
   "cell_type": "code",
   "execution_count": 97,
   "id": "42ae7eee",
   "metadata": {},
   "outputs": [],
   "source": [
    "# from sklearn.model_selection import RandomizedSearchCV"
   ]
  },
  {
   "cell_type": "code",
   "execution_count": 98,
   "id": "d671cad9",
   "metadata": {},
   "outputs": [],
   "source": [
    "# rfr_hyper = RandomForestRegressor()\n",
    "# # par_grid = {\"n_estimators\":np.arange(10,15),\n",
    "#              \"criterion\":[\"squared_error\",\"absolute_error\"],\n",
    "#              \"max_depth\":np.arange(2,4),\n",
    "#              \"min_samples_split\":np.arange(3,13),\n",
    "#              \"min_samples_leaf\":np.arange(3,8)}\n",
    "# rfcv = RandomizedSearchCV(rfr_hyper,par_grid,cv=3)\n",
    "# rfcv.fit(x_train,y_train)"
   ]
  },
  {
   "cell_type": "code",
   "execution_count": 99,
   "id": "f6108f42",
   "metadata": {},
   "outputs": [],
   "source": [
    "# rfr_hyper = rfcv.best_estimator_\n",
    "# rf_hyper"
   ]
  },
  {
   "cell_type": "code",
   "execution_count": 100,
   "id": "ebf54be2",
   "metadata": {},
   "outputs": [],
   "source": [
    "# pd.DataFrame({\"Model Names\":['Linear Reg','RandomForest Reg'],\n",
    "#             \"Accuracy socre\":[lin_reg_score,rr_score,lr_score,rfr_score]})"
   ]
  },
  {
   "cell_type": "code",
   "execution_count": 101,
   "id": "d1ebbbe2",
   "metadata": {},
   "outputs": [
    {
     "data": {
      "text/plain": [
       "online_order      0.0\n",
       "book_table        0.0\n",
       "rate              3.5\n",
       "votes            52.0\n",
       "rest_type         6.0\n",
       "cuisines         60.0\n",
       "cost2people     300.0\n",
       "type              2.0\n",
       "city              1.0\n",
       "Name: 100, dtype: float64"
      ]
     },
     "execution_count": 101,
     "metadata": {},
     "output_type": "execute_result"
    }
   ],
   "source": [
    "rest_data.loc[100,:]"
   ]
  },
  {
   "cell_type": "code",
   "execution_count": 102,
   "id": "a4c882e3",
   "metadata": {},
   "outputs": [
    {
     "data": {
      "text/plain": [
       "array([4.02])"
      ]
     },
     "execution_count": 102,
     "metadata": {},
     "output_type": "execute_result"
    }
   ],
   "source": [
    "rfr.predict([[0,0,52,6,60,300,2,1]])"
   ]
  },
  {
   "cell_type": "code",
   "execution_count": 103,
   "id": "f8527953",
   "metadata": {},
   "outputs": [
    {
     "data": {
      "text/html": [
       "<div>\n",
       "<style scoped>\n",
       "    .dataframe tbody tr th:only-of-type {\n",
       "        vertical-align: middle;\n",
       "    }\n",
       "\n",
       "    .dataframe tbody tr th {\n",
       "        vertical-align: top;\n",
       "    }\n",
       "\n",
       "    .dataframe thead th {\n",
       "        text-align: right;\n",
       "    }\n",
       "</style>\n",
       "<table border=\"1\" class=\"dataframe\">\n",
       "  <thead>\n",
       "    <tr style=\"text-align: right;\">\n",
       "      <th></th>\n",
       "      <th>Actual Rating</th>\n",
       "      <th>Predicted Rating</th>\n",
       "    </tr>\n",
       "  </thead>\n",
       "  <tbody>\n",
       "    <tr>\n",
       "      <th>34496</th>\n",
       "      <td>3.700000</td>\n",
       "      <td>3.702000</td>\n",
       "    </tr>\n",
       "    <tr>\n",
       "      <th>33060</th>\n",
       "      <td>3.800000</td>\n",
       "      <td>3.794000</td>\n",
       "    </tr>\n",
       "    <tr>\n",
       "      <th>51430</th>\n",
       "      <td>3.400000</td>\n",
       "      <td>3.322500</td>\n",
       "    </tr>\n",
       "    <tr>\n",
       "      <th>3892</th>\n",
       "      <td>3.700142</td>\n",
       "      <td>3.700142</td>\n",
       "    </tr>\n",
       "    <tr>\n",
       "      <th>42856</th>\n",
       "      <td>4.500000</td>\n",
       "      <td>4.493000</td>\n",
       "    </tr>\n",
       "    <tr>\n",
       "      <th>...</th>\n",
       "      <td>...</td>\n",
       "      <td>...</td>\n",
       "    </tr>\n",
       "    <tr>\n",
       "      <th>33935</th>\n",
       "      <td>4.700000</td>\n",
       "      <td>4.696667</td>\n",
       "    </tr>\n",
       "    <tr>\n",
       "      <th>20897</th>\n",
       "      <td>3.700000</td>\n",
       "      <td>3.715000</td>\n",
       "    </tr>\n",
       "    <tr>\n",
       "      <th>20080</th>\n",
       "      <td>3.900000</td>\n",
       "      <td>3.901000</td>\n",
       "    </tr>\n",
       "    <tr>\n",
       "      <th>1147</th>\n",
       "      <td>3.700142</td>\n",
       "      <td>3.700142</td>\n",
       "    </tr>\n",
       "    <tr>\n",
       "      <th>612</th>\n",
       "      <td>3.700000</td>\n",
       "      <td>3.635000</td>\n",
       "    </tr>\n",
       "  </tbody>\n",
       "</table>\n",
       "<p>10322 rows × 2 columns</p>\n",
       "</div>"
      ],
      "text/plain": [
       "       Actual Rating  Predicted Rating\n",
       "34496       3.700000          3.702000\n",
       "33060       3.800000          3.794000\n",
       "51430       3.400000          3.322500\n",
       "3892        3.700142          3.700142\n",
       "42856       4.500000          4.493000\n",
       "...              ...               ...\n",
       "33935       4.700000          4.696667\n",
       "20897       3.700000          3.715000\n",
       "20080       3.900000          3.901000\n",
       "1147        3.700142          3.700142\n",
       "612         3.700000          3.635000\n",
       "\n",
       "[10322 rows x 2 columns]"
      ]
     },
     "execution_count": 103,
     "metadata": {},
     "output_type": "execute_result"
    }
   ],
   "source": [
    "sample=pd.DataFrame({\"Actual Rating\":y_test,\n",
    "             \"Predicted Rating\":rfr.predict(x_test)})\n",
    "sample"
   ]
  },
  {
   "cell_type": "code",
   "execution_count": 104,
   "id": "7a803f13",
   "metadata": {},
   "outputs": [
    {
     "data": {
      "text/html": [
       "<div>\n",
       "<style scoped>\n",
       "    .dataframe tbody tr th:only-of-type {\n",
       "        vertical-align: middle;\n",
       "    }\n",
       "\n",
       "    .dataframe tbody tr th {\n",
       "        vertical-align: top;\n",
       "    }\n",
       "\n",
       "    .dataframe thead th {\n",
       "        text-align: right;\n",
       "    }\n",
       "</style>\n",
       "<table border=\"1\" class=\"dataframe\">\n",
       "  <thead>\n",
       "    <tr style=\"text-align: right;\">\n",
       "      <th></th>\n",
       "      <th>Model Names</th>\n",
       "      <th>Accuracy socre</th>\n",
       "    </tr>\n",
       "  </thead>\n",
       "  <tbody>\n",
       "    <tr>\n",
       "      <th>0</th>\n",
       "      <td>Linear Reg</td>\n",
       "      <td>22.609887</td>\n",
       "    </tr>\n",
       "    <tr>\n",
       "      <th>1</th>\n",
       "      <td>RandomForest Reg</td>\n",
       "      <td>81.553324</td>\n",
       "    </tr>\n",
       "  </tbody>\n",
       "</table>\n",
       "</div>"
      ],
      "text/plain": [
       "        Model Names  Accuracy socre\n",
       "0        Linear Reg       22.609887\n",
       "1  RandomForest Reg       81.553324"
      ]
     },
     "execution_count": 104,
     "metadata": {},
     "output_type": "execute_result"
    }
   ],
   "source": [
    "pd.DataFrame({\"Model Names\":['Linear Reg','RandomForest Reg'],\"Accuracy socre\":[lr_reg_score,rfr_score]})"
   ]
  },
  {
   "cell_type": "code",
   "execution_count": 115,
   "id": "347a2119",
   "metadata": {},
   "outputs": [
    {
     "data": {
      "application/vnd.jupyter.widget-view+json": {
       "model_id": "00dcf2508b944dacbc7ded11c35a9e3f",
       "version_major": 2,
       "version_minor": 0
      },
      "text/plain": [
       "Summarize dataset:   0%|          | 0/5 [00:00<?, ?it/s]"
      ]
     },
     "metadata": {},
     "output_type": "display_data"
    },
    {
     "data": {
      "application/vnd.jupyter.widget-view+json": {
       "model_id": "f07ba25a6be449cda8b79e0f1a387ea6",
       "version_major": 2,
       "version_minor": 0
      },
      "text/plain": [
       "Generate report structure:   0%|          | 0/1 [00:00<?, ?it/s]"
      ]
     },
     "metadata": {},
     "output_type": "display_data"
    },
    {
     "data": {
      "application/vnd.jupyter.widget-view+json": {
       "model_id": "99c6195546d64da8be4c1c3e0dbbedc5",
       "version_major": 2,
       "version_minor": 0
      },
      "text/plain": [
       "Render HTML:   0%|          | 0/1 [00:00<?, ?it/s]"
      ]
     },
     "metadata": {},
     "output_type": "display_data"
    },
    {
     "data": {
      "application/vnd.jupyter.widget-view+json": {
       "model_id": "dd831a19774440dfb04ee6a0cc8f8c81",
       "version_major": 2,
       "version_minor": 0
      },
      "text/plain": [
       "Export report to file:   0%|          | 0/1 [00:00<?, ?it/s]"
      ]
     },
     "metadata": {},
     "output_type": "display_data"
    }
   ],
   "source": [
    "#import the packages\n",
    "import pandas as pd\n",
    "import pandas_profiling\n",
    "  \n",
    "# read the file\n",
    "df = pd.read_csv('zomato.csv')\n",
    "  \n",
    "# run the profile report\n",
    "profile = rest_data.profile_report(title='zomato Profiling Report')\n",
    "profile\n",
    "profile.to_file(output_file=\"zomatonew.html\")"
   ]
  }
 ],
 "metadata": {
  "kernelspec": {
   "display_name": "Python 3 (ipykernel)",
   "language": "python",
   "name": "python3"
  },
  "language_info": {
   "codemirror_mode": {
    "name": "ipython",
    "version": 3
   },
   "file_extension": ".py",
   "mimetype": "text/x-python",
   "name": "python",
   "nbconvert_exporter": "python",
   "pygments_lexer": "ipython3",
   "version": "3.10.5"
  }
 },
 "nbformat": 4,
 "nbformat_minor": 5
}
